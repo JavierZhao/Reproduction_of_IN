{
 "cells": [
  {
   "cell_type": "code",
   "execution_count": 1,
   "id": "9a969ecc",
   "metadata": {},
   "outputs": [],
   "source": [
    "from __future__ import print_function\n",
    "\n",
    "import argparse\n",
    "import glob\n",
    "import json\n",
    "import os\n",
    "from pathlib import Path\n",
    "\n",
    "import numpy as np\n",
    "import torch\n",
    "import torch.nn as nn\n",
    "import torch.optim as optim\n",
    "\n",
    "# if torch.cuda.is_available():\n",
    "#     import setGPU  # noqa: F401\n",
    "\n",
    "import tqdm\n",
    "import yaml\n",
    "\n",
    "from src.data.h5data import H5Data\n",
    "from src.models.gnn import GraphNet"
   ]
  },
  {
   "cell_type": "code",
   "execution_count": 2,
   "id": "7c863af6",
   "metadata": {},
   "outputs": [],
   "source": [
    "os.environ[\"HDF5_USE_FILE_LOCKING\"] = \"FALSE\"\n",
    "project_dir = \"/home/ziz078/teams/group-2/Reproduction_of_IN\""
   ]
  },
  {
   "cell_type": "code",
   "execution_count": 3,
   "id": "129f609d",
   "metadata": {},
   "outputs": [],
   "source": [
    "train_path = f\"{project_dir}/data/processed/train/\"\n",
    "definitions = f\"{project_dir}/src/data/definitions.yml\"\n",
    "with open(definitions) as yaml_file:\n",
    "    defn = yaml.load(yaml_file, Loader=yaml.FullLoader)"
   ]
  },
  {
   "cell_type": "code",
   "execution_count": 4,
   "id": "1ab6d43a",
   "metadata": {},
   "outputs": [],
   "source": [
    "N = defn[\"nobj_2\"]  # number of charged particles\n",
    "N_sv = defn[\"nobj_3\"]  # number of SVs\n",
    "n_targets = len(defn[\"reduced_labels\"])  # number of classes\n",
    "params = defn[\"features_2\"]\n",
    "params_sv = defn[\"features_3\"]"
   ]
  },
  {
   "cell_type": "code",
   "execution_count": 5,
   "id": "acaf8c80",
   "metadata": {},
   "outputs": [],
   "source": [
    "model_dict = {}\n",
    "\n",
    "device = \"cuda\"\n",
    "\n",
    "files = glob.glob(os.path.join(train_path, \"newdata_*.h5\"))\n",
    "# take first 10% of files for validation\n",
    "# n_val should be 5 for full dataset\n",
    "n_val = max(1, int(0.1 * len(files)))\n",
    "files_val = files[:n_val]\n",
    "files_train = files[n_val:]\n",
    "\n",
    "outdir = f\"{project_dir}/models/\"  # output directory\n",
    "vv_branch = False  # Consider vertex-vertex interaction in model\n",
    "drop_rate = 0  # Signal Drop rate\n",
    "load_def = False  # Load weights from default model if enabled\n",
    "random_split = False  # randomly split train test data if enabled"
   ]
  },
  {
   "cell_type": "code",
   "execution_count": 6,
   "id": "bdc27d01",
   "metadata": {},
   "outputs": [
    {
     "data": {
      "text/plain": [
       "0"
      ]
     },
     "execution_count": 6,
     "metadata": {},
     "output_type": "execute_result"
    }
   ],
   "source": [
    "label = \"small_IN\"\n",
    "batch_size = 512\n",
    "n_epochs = 100\n",
    "\n",
    "model_loc = f\"{outdir}/trained_models/\"\n",
    "model_perf_loc = f\"{outdir}/model_performances\"\n",
    "model_dict_loc = f\"{outdir}/model_dicts\"\n",
    "os.system(f\"mkdir -p {model_loc} {model_perf_loc} {model_dict_loc}\")"
   ]
  },
  {
   "cell_type": "code",
   "execution_count": 7,
   "id": "0ff0b119",
   "metadata": {},
   "outputs": [
    {
     "name": "stdout",
     "output_type": "stream",
     "text": [
      "val data: 100000\n",
      "train data: 300000\n"
     ]
    }
   ],
   "source": [
    "# Get the training and validation data\n",
    "data_train = H5Data(\n",
    "    batch_size=batch_size,\n",
    "    cache=None,\n",
    "    preloading=0,\n",
    "    features_name=\"training_subgroup\",\n",
    "    labels_name=\"target_subgroup\",\n",
    "    spectators_name=\"spectator_subgroup\",\n",
    ")\n",
    "data_train.set_file_names(files_train)\n",
    "data_val = H5Data(\n",
    "    batch_size=batch_size,\n",
    "    cache=None,\n",
    "    preloading=0,\n",
    "    features_name=\"training_subgroup\",\n",
    "    labels_name=\"target_subgroup\",\n",
    "    spectators_name=\"spectator_subgroup\",\n",
    ")\n",
    "data_val.set_file_names(files_val)\n",
    "\n",
    "n_val = data_val.count_data()\n",
    "n_train = data_train.count_data()\n",
    "print(f\"val data: {n_val}\")\n",
    "print(f\"train data: {n_train}\")"
   ]
  },
  {
   "cell_type": "code",
   "execution_count": 8,
   "id": "09f0551b",
   "metadata": {},
   "outputs": [],
   "source": [
    "model = GraphNet(\n",
    "        n_constituents=N,\n",
    "        n_targets=n_targets,\n",
    "        params=len(params),\n",
    "        hidden=60,\n",
    "        n_vertices=N_sv,\n",
    "        params_v=len(params_sv),\n",
    "        vv_branch=int(vv_branch),\n",
    "        De=20,\n",
    "        Do=24,\n",
    "    )"
   ]
  },
  {
   "cell_type": "code",
   "execution_count": 9,
   "id": "9e7f1287",
   "metadata": {},
   "outputs": [],
   "source": [
    "optimizer = optim.Adam(model.parameters(), lr=0.0001)"
   ]
  },
  {
   "cell_type": "code",
   "execution_count": 10,
   "id": "61d2f7ba",
   "metadata": {},
   "outputs": [],
   "source": [
    "loss = nn.CrossEntropyLoss(reduction=\"mean\")\n",
    "\n",
    "l_val_best = 99999\n",
    "\n",
    "from sklearn.metrics import accuracy_score\n",
    "\n",
    "softmax = torch.nn.Softmax(dim=1)\n",
    "import time"
   ]
  },
  {
   "cell_type": "code",
   "execution_count": 11,
   "id": "047cc7b6",
   "metadata": {},
   "outputs": [
    {
     "name": "stdout",
     "output_type": "stream",
     "text": [
      "Epoch 0\n",
      "\n"
     ]
    },
    {
     "name": "stderr",
     "output_type": "stream",
     "text": [
      "Training loss: 0.2681: 100%|██████████| 585/585 [00:34<00:00, 17.09it/s]\n"
     ]
    },
    {
     "name": "stdout",
     "output_type": "stream",
     "text": [
      "Training done in 34.2340 seconds\n"
     ]
    },
    {
     "name": "stderr",
     "output_type": "stream",
     "text": [
      "Validation loss: 0.2251: 100%|██████████| 195/195 [00:06<00:00, 29.02it/s]\n"
     ]
    },
    {
     "name": "stdout",
     "output_type": "stream",
     "text": [
      "Evaluation done in 6.7231 seconds\n",
      "\n",
      "Validation Loss: 0.2625002193145263\n",
      "Training Loss: 0.3388710966731748\n",
      "new best model\n",
      "Validation Accuracy: 0.8437099358974359\n",
      "Epoch 1\n",
      "\n"
     ]
    },
    {
     "name": "stderr",
     "output_type": "stream",
     "text": [
      "Training loss: 0.2622: 100%|██████████| 585/585 [00:33<00:00, 17.47it/s]\n"
     ]
    },
    {
     "name": "stdout",
     "output_type": "stream",
     "text": [
      "Training done in 33.4984 seconds\n"
     ]
    },
    {
     "name": "stderr",
     "output_type": "stream",
     "text": [
      "Validation loss: 0.1962: 100%|██████████| 195/195 [00:06<00:00, 29.14it/s]\n"
     ]
    },
    {
     "name": "stdout",
     "output_type": "stream",
     "text": [
      "Evaluation done in 6.6972 seconds\n",
      "\n",
      "Validation Loss: 0.22955688429184448\n",
      "Training Loss: 0.244448893956649\n",
      "new best model\n",
      "Validation Accuracy: 0.8567808493589744\n",
      "Epoch 2\n",
      "\n"
     ]
    },
    {
     "name": "stderr",
     "output_type": "stream",
     "text": [
      "Training loss: 0.2500: 100%|██████████| 585/585 [00:33<00:00, 17.65it/s]\n"
     ]
    },
    {
     "name": "stdout",
     "output_type": "stream",
     "text": [
      "Training done in 33.1429 seconds\n"
     ]
    },
    {
     "name": "stderr",
     "output_type": "stream",
     "text": [
      "Validation loss: 0.1827: 100%|██████████| 195/195 [00:06<00:00, 30.28it/s]\n"
     ]
    },
    {
     "name": "stdout",
     "output_type": "stream",
     "text": [
      "Evaluation done in 6.4440 seconds\n",
      "\n",
      "Validation Loss: 0.2158346325159073\n",
      "Training Loss: 0.2228033597398008\n",
      "new best model\n",
      "Validation Accuracy: 0.8622095352564103\n",
      "Epoch 3\n",
      "\n"
     ]
    },
    {
     "name": "stderr",
     "output_type": "stream",
     "text": [
      "Training loss: 0.2347: 100%|██████████| 585/585 [00:32<00:00, 17.83it/s]\n"
     ]
    },
    {
     "name": "stdout",
     "output_type": "stream",
     "text": [
      "Training done in 32.8170 seconds\n"
     ]
    },
    {
     "name": "stderr",
     "output_type": "stream",
     "text": [
      "Validation loss: 0.1755: 100%|██████████| 195/195 [00:06<00:00, 30.49it/s]\n"
     ]
    },
    {
     "name": "stdout",
     "output_type": "stream",
     "text": [
      "Evaluation done in 6.3993 seconds\n",
      "\n",
      "Validation Loss: 0.21299994297516653\n",
      "Training Loss: 0.2096555916672079\n",
      "new best model\n",
      "Validation Accuracy: 0.8623297275641025\n",
      "Epoch 4\n",
      "\n"
     ]
    },
    {
     "name": "stderr",
     "output_type": "stream",
     "text": [
      "Training loss: 0.2087: 100%|██████████| 585/585 [00:32<00:00, 17.88it/s]\n"
     ]
    },
    {
     "name": "stdout",
     "output_type": "stream",
     "text": [
      "Training done in 32.7310 seconds\n"
     ]
    },
    {
     "name": "stderr",
     "output_type": "stream",
     "text": [
      "Validation loss: 0.1641: 100%|██████████| 195/195 [00:06<00:00, 30.75it/s]\n"
     ]
    },
    {
     "name": "stdout",
     "output_type": "stream",
     "text": [
      "Evaluation done in 6.3455 seconds\n",
      "\n",
      "Validation Loss: 0.19797817629117231\n",
      "Training Loss: 0.19612711581409487\n",
      "new best model\n",
      "Validation Accuracy: 0.8685997596153846\n",
      "Epoch 5\n",
      "\n"
     ]
    },
    {
     "name": "stderr",
     "output_type": "stream",
     "text": [
      "Training loss: 0.1972: 100%|██████████| 585/585 [00:32<00:00, 17.83it/s]\n"
     ]
    },
    {
     "name": "stdout",
     "output_type": "stream",
     "text": [
      "Training done in 32.8108 seconds\n"
     ]
    },
    {
     "name": "stderr",
     "output_type": "stream",
     "text": [
      "Validation loss: 0.1578: 100%|██████████| 195/195 [00:06<00:00, 30.51it/s]\n"
     ]
    },
    {
     "name": "stdout",
     "output_type": "stream",
     "text": [
      "Evaluation done in 6.3936 seconds\n",
      "\n",
      "Validation Loss: 0.19080026359894336\n",
      "Training Loss: 0.18772317027179605\n",
      "new best model\n",
      "Validation Accuracy: 0.8705028044871795\n",
      "Epoch 6\n",
      "\n"
     ]
    },
    {
     "name": "stderr",
     "output_type": "stream",
     "text": [
      "Training loss: 0.1930: 100%|██████████| 585/585 [00:32<00:00, 17.75it/s]\n"
     ]
    },
    {
     "name": "stdout",
     "output_type": "stream",
     "text": [
      "Training done in 32.9678 seconds\n"
     ]
    },
    {
     "name": "stderr",
     "output_type": "stream",
     "text": [
      "Validation loss: 0.1529: 100%|██████████| 195/195 [00:06<00:00, 30.12it/s]\n"
     ]
    },
    {
     "name": "stdout",
     "output_type": "stream",
     "text": [
      "Evaluation done in 6.4795 seconds\n",
      "\n",
      "Validation Loss: 0.18381112653475543\n",
      "Training Loss: 0.18310491691033046\n",
      "new best model\n",
      "Validation Accuracy: 0.8748998397435898\n",
      "Epoch 7\n",
      "\n"
     ]
    },
    {
     "name": "stderr",
     "output_type": "stream",
     "text": [
      "Training loss: 0.1892: 100%|██████████| 585/585 [00:32<00:00, 17.93it/s]\n"
     ]
    },
    {
     "name": "stdout",
     "output_type": "stream",
     "text": [
      "Training done in 32.6396 seconds\n"
     ]
    },
    {
     "name": "stderr",
     "output_type": "stream",
     "text": [
      "Validation loss: 0.1434: 100%|██████████| 195/195 [00:06<00:00, 29.97it/s]\n"
     ]
    },
    {
     "name": "stdout",
     "output_type": "stream",
     "text": [
      "Evaluation done in 6.5101 seconds\n",
      "\n",
      "Validation Loss: 0.17747283463294689\n",
      "Training Loss: 0.17571777948456951\n",
      "new best model\n",
      "Validation Accuracy: 0.8778545673076923\n",
      "Epoch 8\n",
      "\n"
     ]
    },
    {
     "name": "stderr",
     "output_type": "stream",
     "text": [
      "Training loss: 0.1909: 100%|██████████| 585/585 [00:32<00:00, 17.90it/s]\n"
     ]
    },
    {
     "name": "stdout",
     "output_type": "stream",
     "text": [
      "Training done in 32.6835 seconds\n"
     ]
    },
    {
     "name": "stderr",
     "output_type": "stream",
     "text": [
      "Validation loss: 0.1402: 100%|██████████| 195/195 [00:06<00:00, 30.53it/s]\n"
     ]
    },
    {
     "name": "stdout",
     "output_type": "stream",
     "text": [
      "Evaluation done in 6.3901 seconds\n",
      "\n",
      "Validation Loss: 0.17367735967422143\n",
      "Training Loss: 0.17162516190964952\n",
      "new best model\n",
      "Validation Accuracy: 0.8798878205128206\n",
      "Epoch 9\n",
      "\n"
     ]
    },
    {
     "name": "stderr",
     "output_type": "stream",
     "text": [
      "Training loss: 0.2011: 100%|██████████| 585/585 [00:32<00:00, 17.89it/s]\n"
     ]
    },
    {
     "name": "stdout",
     "output_type": "stream",
     "text": [
      "Training done in 32.7004 seconds\n"
     ]
    },
    {
     "name": "stderr",
     "output_type": "stream",
     "text": [
      "Validation loss: 0.1400: 100%|██████████| 195/195 [00:06<00:00, 30.89it/s]\n"
     ]
    },
    {
     "name": "stdout",
     "output_type": "stream",
     "text": [
      "Evaluation done in 6.3173 seconds\n",
      "\n",
      "Validation Loss: 0.1680948047301708\n",
      "Training Loss: 0.1682613489846898\n",
      "new best model\n",
      "Validation Accuracy: 0.8848357371794872\n",
      "Epoch 10\n",
      "\n"
     ]
    },
    {
     "name": "stderr",
     "output_type": "stream",
     "text": [
      "Training loss: 0.1996: 100%|██████████| 585/585 [00:32<00:00, 17.92it/s]\n"
     ]
    },
    {
     "name": "stdout",
     "output_type": "stream",
     "text": [
      "Training done in 32.6427 seconds\n"
     ]
    },
    {
     "name": "stderr",
     "output_type": "stream",
     "text": [
      "Validation loss: 0.1379: 100%|██████████| 195/195 [00:06<00:00, 30.24it/s]\n"
     ]
    },
    {
     "name": "stdout",
     "output_type": "stream",
     "text": [
      "Evaluation done in 6.4521 seconds\n",
      "\n",
      "Validation Loss: 0.16619908534563504\n",
      "Training Loss: 0.16489261705905964\n",
      "new best model\n",
      "Validation Accuracy: 0.8852363782051282\n",
      "Epoch 11\n",
      "\n"
     ]
    },
    {
     "name": "stderr",
     "output_type": "stream",
     "text": [
      "Training loss: 0.1947: 100%|██████████| 585/585 [00:33<00:00, 17.67it/s]\n"
     ]
    },
    {
     "name": "stdout",
     "output_type": "stream",
     "text": [
      "Training done in 33.1013 seconds\n"
     ]
    },
    {
     "name": "stderr",
     "output_type": "stream",
     "text": [
      "Validation loss: 0.1349: 100%|██████████| 195/195 [00:06<00:00, 30.49it/s]\n"
     ]
    },
    {
     "name": "stdout",
     "output_type": "stream",
     "text": [
      "Evaluation done in 6.3996 seconds\n",
      "\n",
      "Validation Loss: 0.1652287537470842\n",
      "Training Loss: 0.16248449717576688\n",
      "new best model\n",
      "Validation Accuracy: 0.8868389423076923\n",
      "Epoch 12\n",
      "\n"
     ]
    },
    {
     "name": "stderr",
     "output_type": "stream",
     "text": [
      "Training loss: 0.1864: 100%|██████████| 585/585 [00:32<00:00, 17.84it/s]\n"
     ]
    },
    {
     "name": "stdout",
     "output_type": "stream",
     "text": [
      "Training done in 32.7946 seconds\n"
     ]
    },
    {
     "name": "stderr",
     "output_type": "stream",
     "text": [
      "Validation loss: 0.1326: 100%|██████████| 195/195 [00:06<00:00, 30.79it/s]\n"
     ]
    },
    {
     "name": "stdout",
     "output_type": "stream",
     "text": [
      "Evaluation done in 6.3373 seconds\n",
      "\n",
      "Validation Loss: 0.16474064978269432\n",
      "Training Loss: 0.1601900244752566\n",
      "new best model\n",
      "Validation Accuracy: 0.8882311698717948\n",
      "Epoch 13\n",
      "\n"
     ]
    },
    {
     "name": "stderr",
     "output_type": "stream",
     "text": [
      "Training loss: 0.1758: 100%|██████████| 585/585 [00:32<00:00, 17.92it/s]\n"
     ]
    },
    {
     "name": "stdout",
     "output_type": "stream",
     "text": [
      "Training done in 32.6486 seconds\n"
     ]
    },
    {
     "name": "stderr",
     "output_type": "stream",
     "text": [
      "Validation loss: 0.1337: 100%|██████████| 195/195 [00:06<00:00, 30.78it/s]\n"
     ]
    },
    {
     "name": "stdout",
     "output_type": "stream",
     "text": [
      "Evaluation done in 6.3391 seconds\n",
      "\n",
      "Validation Loss: 0.16266966378077483\n",
      "Training Loss: 0.16107217511560162\n",
      "new best model\n",
      "Validation Accuracy: 0.8896834935897436\n",
      "Epoch 14\n",
      "\n"
     ]
    },
    {
     "name": "stderr",
     "output_type": "stream",
     "text": [
      "Training loss: 0.1722: 100%|██████████| 585/585 [00:32<00:00, 17.90it/s]\n"
     ]
    },
    {
     "name": "stdout",
     "output_type": "stream",
     "text": [
      "Training done in 32.6846 seconds\n"
     ]
    },
    {
     "name": "stderr",
     "output_type": "stream",
     "text": [
      "Validation loss: 0.1292: 100%|██████████| 195/195 [00:06<00:00, 30.62it/s]\n"
     ]
    },
    {
     "name": "stdout",
     "output_type": "stream",
     "text": [
      "Evaluation done in 6.3716 seconds\n",
      "\n",
      "Validation Loss: 0.16074313953136787\n",
      "Training Loss: 0.155478568871816\n",
      "new best model\n",
      "Validation Accuracy: 0.8904246794871795\n",
      "Epoch 15\n",
      "\n"
     ]
    },
    {
     "name": "stderr",
     "output_type": "stream",
     "text": [
      "Training loss: 0.1733: 100%|██████████| 585/585 [00:32<00:00, 17.85it/s]\n"
     ]
    },
    {
     "name": "stdout",
     "output_type": "stream",
     "text": [
      "Training done in 32.7763 seconds\n"
     ]
    },
    {
     "name": "stderr",
     "output_type": "stream",
     "text": [
      "Validation loss: 0.1259: 100%|██████████| 195/195 [00:06<00:00, 30.98it/s]\n"
     ]
    },
    {
     "name": "stdout",
     "output_type": "stream",
     "text": [
      "Evaluation done in 6.2986 seconds\n",
      "\n",
      "Validation Loss: 0.1587535778299356\n",
      "Training Loss: 0.15387335358521878\n",
      "new best model\n",
      "Validation Accuracy: 0.890995592948718\n",
      "Epoch 16\n",
      "\n"
     ]
    },
    {
     "name": "stderr",
     "output_type": "stream",
     "text": [
      "Training loss: 0.1723: 100%|██████████| 585/585 [00:32<00:00, 17.95it/s]\n"
     ]
    },
    {
     "name": "stdout",
     "output_type": "stream",
     "text": [
      "Training done in 32.5967 seconds\n"
     ]
    },
    {
     "name": "stderr",
     "output_type": "stream",
     "text": [
      "Validation loss: 0.1307: 100%|██████████| 195/195 [00:06<00:00, 30.74it/s]\n"
     ]
    },
    {
     "name": "stdout",
     "output_type": "stream",
     "text": [
      "Evaluation done in 6.3476 seconds\n",
      "\n",
      "Validation Loss: 0.1612663609859271\n",
      "Training Loss: 0.1526448430159153\n",
      "Validation Accuracy: 0.8903645833333333\n",
      "Epoch 17\n",
      "\n"
     ]
    },
    {
     "name": "stderr",
     "output_type": "stream",
     "text": [
      "Training loss: 0.1715: 100%|██████████| 585/585 [00:32<00:00, 17.91it/s]\n"
     ]
    },
    {
     "name": "stdout",
     "output_type": "stream",
     "text": [
      "Training done in 32.6624 seconds\n"
     ]
    },
    {
     "name": "stderr",
     "output_type": "stream",
     "text": [
      "Validation loss: 0.1337: 100%|██████████| 195/195 [00:06<00:00, 30.82it/s]\n"
     ]
    },
    {
     "name": "stdout",
     "output_type": "stream",
     "text": [
      "Evaluation done in 6.3315 seconds\n",
      "\n",
      "Validation Loss: 0.16021423626404543\n",
      "Training Loss: 0.15137290129294761\n",
      "Validation Accuracy: 0.8899639423076923\n",
      "Epoch 18\n",
      "\n"
     ]
    },
    {
     "name": "stderr",
     "output_type": "stream",
     "text": [
      "Training loss: 0.1672: 100%|██████████| 585/585 [00:32<00:00, 17.88it/s]\n"
     ]
    },
    {
     "name": "stdout",
     "output_type": "stream",
     "text": [
      "Training done in 32.7198 seconds\n"
     ]
    },
    {
     "name": "stderr",
     "output_type": "stream",
     "text": [
      "Validation loss: 0.1254: 100%|██████████| 195/195 [00:06<00:00, 30.70it/s]\n"
     ]
    },
    {
     "name": "stdout",
     "output_type": "stream",
     "text": [
      "Evaluation done in 6.3554 seconds\n",
      "\n",
      "Validation Loss: 0.15466760095113363\n",
      "Training Loss: 0.14897522958170653\n",
      "new best model\n",
      "Validation Accuracy: 0.8922976762820513\n",
      "Epoch 19\n",
      "\n"
     ]
    },
    {
     "name": "stderr",
     "output_type": "stream",
     "text": [
      "Training loss: 0.1612: 100%|██████████| 585/585 [00:32<00:00, 17.90it/s]\n"
     ]
    },
    {
     "name": "stdout",
     "output_type": "stream",
     "text": [
      "Training done in 32.6906 seconds\n"
     ]
    },
    {
     "name": "stderr",
     "output_type": "stream",
     "text": [
      "Validation loss: 0.1194: 100%|██████████| 195/195 [00:06<00:00, 29.82it/s]\n"
     ]
    },
    {
     "name": "stdout",
     "output_type": "stream",
     "text": [
      "Evaluation done in 6.5424 seconds\n",
      "\n",
      "Validation Loss: 0.14843555570412906\n",
      "Training Loss: 0.14663035772804522\n",
      "new best model\n",
      "Validation Accuracy: 0.892948717948718\n",
      "Epoch 20\n",
      "\n"
     ]
    },
    {
     "name": "stderr",
     "output_type": "stream",
     "text": [
      "Training loss: 0.1542: 100%|██████████| 585/585 [00:33<00:00, 17.53it/s]\n"
     ]
    },
    {
     "name": "stdout",
     "output_type": "stream",
     "text": [
      "Training done in 33.3805 seconds\n"
     ]
    },
    {
     "name": "stderr",
     "output_type": "stream",
     "text": [
      "Validation loss: 0.1192: 100%|██████████| 195/195 [00:06<00:00, 30.49it/s]\n"
     ]
    },
    {
     "name": "stdout",
     "output_type": "stream",
     "text": [
      "Evaluation done in 6.4005 seconds\n",
      "\n",
      "Validation Loss: 0.14564543847854322\n",
      "Training Loss: 0.1451116894936969\n",
      "new best model\n",
      "Validation Accuracy: 0.8932291666666666\n",
      "Epoch 21\n",
      "\n"
     ]
    },
    {
     "name": "stderr",
     "output_type": "stream",
     "text": [
      "Training loss: 0.1516: 100%|██████████| 585/585 [00:32<00:00, 17.85it/s]\n"
     ]
    },
    {
     "name": "stdout",
     "output_type": "stream",
     "text": [
      "Training done in 32.7760 seconds\n"
     ]
    },
    {
     "name": "stderr",
     "output_type": "stream",
     "text": [
      "Validation loss: 0.1170: 100%|██████████| 195/195 [00:06<00:00, 30.77it/s]\n"
     ]
    },
    {
     "name": "stdout",
     "output_type": "stream",
     "text": [
      "Evaluation done in 6.3415 seconds\n",
      "\n",
      "Validation Loss: 0.14359695044083473\n",
      "Training Loss: 0.14259046728794392\n",
      "new best model\n",
      "Validation Accuracy: 0.8940004006410256\n",
      "Epoch 22\n",
      "\n"
     ]
    },
    {
     "name": "stderr",
     "output_type": "stream",
     "text": [
      "Training loss: 0.1522: 100%|██████████| 585/585 [00:32<00:00, 17.88it/s]\n"
     ]
    },
    {
     "name": "stdout",
     "output_type": "stream",
     "text": [
      "Training done in 32.7253 seconds\n"
     ]
    },
    {
     "name": "stderr",
     "output_type": "stream",
     "text": [
      "Validation loss: 0.1183: 100%|██████████| 195/195 [00:06<00:00, 30.73it/s]\n"
     ]
    },
    {
     "name": "stdout",
     "output_type": "stream",
     "text": [
      "Evaluation done in 6.3494 seconds\n",
      "\n",
      "Validation Loss: 0.1434226367718134\n",
      "Training Loss: 0.1412729025651247\n",
      "new best model\n",
      "Validation Accuracy: 0.8947516025641026\n",
      "Epoch 23\n",
      "\n"
     ]
    },
    {
     "name": "stderr",
     "output_type": "stream",
     "text": [
      "Training loss: 0.1486: 100%|██████████| 585/585 [00:32<00:00, 17.88it/s]\n"
     ]
    },
    {
     "name": "stdout",
     "output_type": "stream",
     "text": [
      "Training done in 32.7162 seconds\n"
     ]
    },
    {
     "name": "stderr",
     "output_type": "stream",
     "text": [
      "Validation loss: 0.1192: 100%|██████████| 195/195 [00:07<00:00, 27.43it/s]\n"
     ]
    },
    {
     "name": "stdout",
     "output_type": "stream",
     "text": [
      "Evaluation done in 7.1123 seconds\n",
      "\n",
      "Validation Loss: 0.14127385516961416\n",
      "Training Loss: 0.13888812363147734\n",
      "new best model\n",
      "Validation Accuracy: 0.8958032852564103\n",
      "Epoch 24\n",
      "\n"
     ]
    },
    {
     "name": "stderr",
     "output_type": "stream",
     "text": [
      "Training loss: 0.1475: 100%|██████████| 585/585 [00:33<00:00, 17.70it/s]\n"
     ]
    },
    {
     "name": "stdout",
     "output_type": "stream",
     "text": [
      "Training done in 33.0555 seconds\n"
     ]
    },
    {
     "name": "stderr",
     "output_type": "stream",
     "text": [
      "Validation loss: 0.1178: 100%|██████████| 195/195 [00:06<00:00, 30.25it/s]\n"
     ]
    },
    {
     "name": "stdout",
     "output_type": "stream",
     "text": [
      "Evaluation done in 6.4498 seconds\n",
      "\n",
      "Validation Loss: 0.1396742188777679\n",
      "Training Loss: 0.13691665500911893\n",
      "new best model\n",
      "Validation Accuracy: 0.8962439903846153\n",
      "Epoch 25\n",
      "\n"
     ]
    },
    {
     "name": "stderr",
     "output_type": "stream",
     "text": [
      "Training loss: 0.1468: 100%|██████████| 585/585 [00:32<00:00, 17.84it/s]\n"
     ]
    },
    {
     "name": "stdout",
     "output_type": "stream",
     "text": [
      "Training done in 32.7897 seconds\n"
     ]
    },
    {
     "name": "stderr",
     "output_type": "stream",
     "text": [
      "Validation loss: 0.1189: 100%|██████████| 195/195 [00:06<00:00, 30.85it/s]\n"
     ]
    },
    {
     "name": "stdout",
     "output_type": "stream",
     "text": [
      "Evaluation done in 6.3240 seconds\n",
      "\n",
      "Validation Loss: 0.1397551213319485\n",
      "Training Loss: 0.13549059704582916\n",
      "Validation Accuracy: 0.896484375\n",
      "Epoch 26\n",
      "\n"
     ]
    },
    {
     "name": "stderr",
     "output_type": "stream",
     "text": [
      "Training loss: 0.1426: 100%|██████████| 585/585 [00:32<00:00, 17.80it/s]\n"
     ]
    },
    {
     "name": "stdout",
     "output_type": "stream",
     "text": [
      "Training done in 32.8628 seconds\n"
     ]
    },
    {
     "name": "stderr",
     "output_type": "stream",
     "text": [
      "Validation loss: 0.1183: 100%|██████████| 195/195 [00:06<00:00, 30.96it/s]\n"
     ]
    },
    {
     "name": "stdout",
     "output_type": "stream",
     "text": [
      "Evaluation done in 6.3018 seconds\n",
      "\n",
      "Validation Loss: 0.13822040821497256\n",
      "Training Loss: 0.134624576390299\n",
      "new best model\n",
      "Validation Accuracy: 0.8962640224358974\n",
      "Epoch 27\n",
      "\n"
     ]
    },
    {
     "name": "stderr",
     "output_type": "stream",
     "text": [
      "Training loss: 0.1433: 100%|██████████| 585/585 [00:32<00:00, 17.92it/s]\n"
     ]
    },
    {
     "name": "stdout",
     "output_type": "stream",
     "text": [
      "Training done in 32.6451 seconds\n"
     ]
    },
    {
     "name": "stderr",
     "output_type": "stream",
     "text": [
      "Validation loss: 0.1153: 100%|██████████| 195/195 [00:06<00:00, 30.58it/s]\n"
     ]
    },
    {
     "name": "stdout",
     "output_type": "stream",
     "text": [
      "Evaluation done in 6.3830 seconds\n",
      "\n",
      "Validation Loss: 0.13801492601633072\n",
      "Training Loss: 0.13269087068545513\n",
      "new best model\n",
      "Validation Accuracy: 0.8974659455128206\n",
      "Epoch 28\n",
      "\n"
     ]
    },
    {
     "name": "stderr",
     "output_type": "stream",
     "text": [
      "Training loss: 0.1375: 100%|██████████| 585/585 [00:32<00:00, 17.82it/s]\n"
     ]
    },
    {
     "name": "stdout",
     "output_type": "stream",
     "text": [
      "Training done in 32.8254 seconds\n"
     ]
    },
    {
     "name": "stderr",
     "output_type": "stream",
     "text": [
      "Validation loss: 0.1131: 100%|██████████| 195/195 [00:06<00:00, 30.39it/s]\n"
     ]
    },
    {
     "name": "stdout",
     "output_type": "stream",
     "text": [
      "Evaluation done in 6.4186 seconds\n",
      "\n",
      "Validation Loss: 0.13539198415401654\n",
      "Training Loss: 0.13170120955532433\n",
      "new best model\n",
      "Validation Accuracy: 0.8975861378205128\n",
      "Epoch 29\n",
      "\n"
     ]
    },
    {
     "name": "stderr",
     "output_type": "stream",
     "text": [
      "Training loss: 0.1344: 100%|██████████| 585/585 [00:32<00:00, 17.78it/s]\n"
     ]
    },
    {
     "name": "stdout",
     "output_type": "stream",
     "text": [
      "Training done in 32.9058 seconds\n"
     ]
    },
    {
     "name": "stderr",
     "output_type": "stream",
     "text": [
      "Validation loss: 0.1117: 100%|██████████| 195/195 [00:06<00:00, 29.68it/s]\n"
     ]
    },
    {
     "name": "stdout",
     "output_type": "stream",
     "text": [
      "Evaluation done in 6.5744 seconds\n",
      "\n",
      "Validation Loss: 0.1340289186208676\n",
      "Training Loss: 0.13032788490383035\n",
      "new best model\n",
      "Validation Accuracy: 0.8977964743589744\n",
      "Epoch 30\n",
      "\n"
     ]
    },
    {
     "name": "stderr",
     "output_type": "stream",
     "text": [
      "Training loss: 0.1344: 100%|██████████| 585/585 [00:33<00:00, 17.70it/s]\n"
     ]
    },
    {
     "name": "stdout",
     "output_type": "stream",
     "text": [
      "Training done in 33.0539 seconds\n"
     ]
    },
    {
     "name": "stderr",
     "output_type": "stream",
     "text": [
      "Validation loss: 0.1120: 100%|██████████| 195/195 [00:06<00:00, 30.41it/s]\n"
     ]
    },
    {
     "name": "stdout",
     "output_type": "stream",
     "text": [
      "Evaluation done in 6.4153 seconds\n",
      "\n",
      "Validation Loss: 0.13284203115946208\n",
      "Training Loss: 0.12911060221939005\n",
      "new best model\n",
      "Validation Accuracy: 0.8989383012820513\n",
      "Epoch 31\n",
      "\n"
     ]
    },
    {
     "name": "stderr",
     "output_type": "stream",
     "text": [
      "Training loss: 0.1308: 100%|██████████| 585/585 [00:33<00:00, 17.71it/s]\n"
     ]
    },
    {
     "name": "stdout",
     "output_type": "stream",
     "text": [
      "Training done in 33.0336 seconds\n"
     ]
    },
    {
     "name": "stderr",
     "output_type": "stream",
     "text": [
      "Validation loss: 0.1112: 100%|██████████| 195/195 [00:06<00:00, 30.11it/s]\n"
     ]
    },
    {
     "name": "stdout",
     "output_type": "stream",
     "text": [
      "Evaluation done in 6.4796 seconds\n",
      "\n",
      "Validation Loss: 0.13174257763685324\n",
      "Training Loss: 0.12822200435603787\n",
      "new best model\n",
      "Validation Accuracy: 0.8985376602564102\n",
      "Epoch 32\n",
      "\n"
     ]
    },
    {
     "name": "stderr",
     "output_type": "stream",
     "text": [
      "Training loss: 0.1320: 100%|██████████| 585/585 [00:33<00:00, 17.62it/s]\n"
     ]
    },
    {
     "name": "stdout",
     "output_type": "stream",
     "text": [
      "Training done in 33.1964 seconds\n"
     ]
    },
    {
     "name": "stderr",
     "output_type": "stream",
     "text": [
      "Validation loss: 0.1104: 100%|██████████| 195/195 [00:06<00:00, 30.07it/s]\n"
     ]
    },
    {
     "name": "stdout",
     "output_type": "stream",
     "text": [
      "Evaluation done in 6.4882 seconds\n",
      "\n",
      "Validation Loss: 0.13148761720229418\n",
      "Training Loss: 0.12833672665123247\n",
      "new best model\n",
      "Validation Accuracy: 0.8981870993589743\n",
      "Epoch 33\n",
      "\n"
     ]
    },
    {
     "name": "stderr",
     "output_type": "stream",
     "text": [
      "Training loss: 0.1293: 100%|██████████| 585/585 [00:33<00:00, 17.56it/s]\n"
     ]
    },
    {
     "name": "stdout",
     "output_type": "stream",
     "text": [
      "Training done in 33.3130 seconds\n"
     ]
    },
    {
     "name": "stderr",
     "output_type": "stream",
     "text": [
      "Validation loss: 0.1089: 100%|██████████| 195/195 [00:06<00:00, 29.88it/s]\n"
     ]
    },
    {
     "name": "stdout",
     "output_type": "stream",
     "text": [
      "Evaluation done in 6.5351 seconds\n",
      "\n",
      "Validation Loss: 0.12870108519609158\n",
      "Training Loss: 0.12732488037938747\n",
      "new best model\n",
      "Validation Accuracy: 0.8990985576923077\n",
      "Epoch 34\n",
      "\n"
     ]
    },
    {
     "name": "stderr",
     "output_type": "stream",
     "text": [
      "Training loss: 0.1290: 100%|██████████| 585/585 [00:33<00:00, 17.69it/s]\n"
     ]
    },
    {
     "name": "stdout",
     "output_type": "stream",
     "text": [
      "Training done in 33.0764 seconds\n"
     ]
    },
    {
     "name": "stderr",
     "output_type": "stream",
     "text": [
      "Validation loss: 0.1056: 100%|██████████| 195/195 [00:06<00:00, 29.63it/s]\n"
     ]
    },
    {
     "name": "stdout",
     "output_type": "stream",
     "text": [
      "Evaluation done in 6.5840 seconds\n",
      "\n",
      "Validation Loss: 0.12840731682685705\n",
      "Training Loss: 0.12623519734439687\n",
      "new best model\n",
      "Validation Accuracy: 0.8990685096153846\n",
      "Epoch 35\n",
      "\n"
     ]
    },
    {
     "name": "stderr",
     "output_type": "stream",
     "text": [
      "Training loss: 0.1272: 100%|██████████| 585/585 [00:33<00:00, 17.64it/s]\n"
     ]
    },
    {
     "name": "stdout",
     "output_type": "stream",
     "text": [
      "Training done in 33.1580 seconds\n"
     ]
    },
    {
     "name": "stderr",
     "output_type": "stream",
     "text": [
      "Validation loss: 0.1050: 100%|██████████| 195/195 [00:06<00:00, 29.98it/s]\n"
     ]
    },
    {
     "name": "stdout",
     "output_type": "stream",
     "text": [
      "Evaluation done in 6.5086 seconds\n",
      "\n",
      "Validation Loss: 0.12796053714477099\n",
      "Training Loss: 0.1253199354578287\n",
      "new best model\n",
      "Validation Accuracy: 0.8998197115384615\n",
      "Epoch 36\n",
      "\n"
     ]
    },
    {
     "name": "stderr",
     "output_type": "stream",
     "text": [
      "Training loss: 0.1261: 100%|██████████| 585/585 [00:33<00:00, 17.54it/s]\n"
     ]
    },
    {
     "name": "stdout",
     "output_type": "stream",
     "text": [
      "Training done in 33.3555 seconds\n"
     ]
    },
    {
     "name": "stderr",
     "output_type": "stream",
     "text": [
      "Validation loss: 0.1053: 100%|██████████| 195/195 [00:06<00:00, 30.20it/s]\n"
     ]
    },
    {
     "name": "stdout",
     "output_type": "stream",
     "text": [
      "Evaluation done in 6.4595 seconds\n",
      "\n",
      "Validation Loss: 0.1278563610636271\n",
      "Training Loss: 0.12424894156109574\n",
      "new best model\n",
      "Validation Accuracy: 0.9002704326923077\n",
      "Epoch 37\n",
      "\n"
     ]
    },
    {
     "name": "stderr",
     "output_type": "stream",
     "text": [
      "Training loss: 0.1256: 100%|██████████| 585/585 [00:33<00:00, 17.67it/s]\n"
     ]
    },
    {
     "name": "stdout",
     "output_type": "stream",
     "text": [
      "Training done in 33.1084 seconds\n"
     ]
    },
    {
     "name": "stderr",
     "output_type": "stream",
     "text": [
      "Validation loss: 0.1044: 100%|██████████| 195/195 [00:06<00:00, 29.02it/s]\n"
     ]
    },
    {
     "name": "stdout",
     "output_type": "stream",
     "text": [
      "Evaluation done in 6.7224 seconds\n",
      "\n",
      "Validation Loss: 0.1264272805589896\n",
      "Training Loss: 0.12302252910076043\n",
      "new best model\n",
      "Validation Accuracy: 0.9003004807692307\n",
      "Epoch 38\n",
      "\n"
     ]
    },
    {
     "name": "stderr",
     "output_type": "stream",
     "text": [
      "Training loss: 0.1226: 100%|██████████| 585/585 [00:33<00:00, 17.28it/s]\n"
     ]
    },
    {
     "name": "stdout",
     "output_type": "stream",
     "text": [
      "Training done in 33.8564 seconds\n"
     ]
    },
    {
     "name": "stderr",
     "output_type": "stream",
     "text": [
      "Validation loss: 0.1009: 100%|██████████| 195/195 [00:06<00:00, 29.89it/s]\n"
     ]
    },
    {
     "name": "stdout",
     "output_type": "stream",
     "text": [
      "Evaluation done in 6.5279 seconds\n",
      "\n",
      "Validation Loss: 0.12478176664847594\n",
      "Training Loss: 0.12259102118575675\n",
      "new best model\n",
      "Validation Accuracy: 0.9002003205128205\n",
      "Epoch 39\n",
      "\n"
     ]
    },
    {
     "name": "stderr",
     "output_type": "stream",
     "text": [
      "Training loss: 0.1246: 100%|██████████| 585/585 [00:33<00:00, 17.42it/s]\n"
     ]
    },
    {
     "name": "stdout",
     "output_type": "stream",
     "text": [
      "Training done in 33.5793 seconds\n"
     ]
    },
    {
     "name": "stderr",
     "output_type": "stream",
     "text": [
      "Validation loss: 0.1014: 100%|██████████| 195/195 [00:06<00:00, 28.90it/s]\n"
     ]
    },
    {
     "name": "stdout",
     "output_type": "stream",
     "text": [
      "Evaluation done in 6.7508 seconds\n",
      "\n",
      "Validation Loss: 0.12448552881295864\n",
      "Training Loss: 0.12167244331958967\n",
      "new best model\n",
      "Validation Accuracy: 0.8997996794871795\n",
      "Epoch 40\n",
      "\n"
     ]
    },
    {
     "name": "stderr",
     "output_type": "stream",
     "text": [
      "Training loss: 0.1243: 100%|██████████| 585/585 [00:33<00:00, 17.65it/s]\n"
     ]
    },
    {
     "name": "stdout",
     "output_type": "stream",
     "text": [
      "Training done in 33.1565 seconds\n"
     ]
    },
    {
     "name": "stderr",
     "output_type": "stream",
     "text": [
      "Validation loss: 0.1011: 100%|██████████| 195/195 [00:06<00:00, 30.14it/s]\n"
     ]
    },
    {
     "name": "stdout",
     "output_type": "stream",
     "text": [
      "Evaluation done in 6.4728 seconds\n",
      "\n",
      "Validation Loss: 0.1253733257452647\n",
      "Training Loss: 0.12030276105954096\n",
      "Validation Accuracy: 0.9008814102564102\n",
      "Epoch 41\n",
      "\n"
     ]
    },
    {
     "name": "stderr",
     "output_type": "stream",
     "text": [
      "Training loss: 0.1212: 100%|██████████| 585/585 [00:33<00:00, 17.67it/s]\n"
     ]
    },
    {
     "name": "stdout",
     "output_type": "stream",
     "text": [
      "Training done in 33.1022 seconds\n"
     ]
    },
    {
     "name": "stderr",
     "output_type": "stream",
     "text": [
      "Validation loss: 0.0997: 100%|██████████| 195/195 [00:06<00:00, 29.57it/s]\n"
     ]
    },
    {
     "name": "stdout",
     "output_type": "stream",
     "text": [
      "Evaluation done in 6.5970 seconds\n",
      "\n",
      "Validation Loss: 0.12384443676624543\n",
      "Training Loss: 0.11940194870162214\n",
      "new best model\n",
      "Validation Accuracy: 0.901161858974359\n",
      "Epoch 42\n",
      "\n"
     ]
    },
    {
     "name": "stderr",
     "output_type": "stream",
     "text": [
      "Training loss: 0.1197: 100%|██████████| 585/585 [00:33<00:00, 17.63it/s]\n"
     ]
    },
    {
     "name": "stdout",
     "output_type": "stream",
     "text": [
      "Training done in 33.1933 seconds\n"
     ]
    },
    {
     "name": "stderr",
     "output_type": "stream",
     "text": [
      "Validation loss: 0.1005: 100%|██████████| 195/195 [00:06<00:00, 29.91it/s]\n"
     ]
    },
    {
     "name": "stdout",
     "output_type": "stream",
     "text": [
      "Evaluation done in 6.5232 seconds\n",
      "\n",
      "Validation Loss: 0.12412724724182715\n",
      "Training Loss: 0.11860305939474676\n",
      "Validation Accuracy: 0.9009815705128205\n",
      "Epoch 43\n",
      "\n"
     ]
    },
    {
     "name": "stderr",
     "output_type": "stream",
     "text": [
      "Training loss: 0.1208: 100%|██████████| 585/585 [00:33<00:00, 17.65it/s]\n"
     ]
    },
    {
     "name": "stdout",
     "output_type": "stream",
     "text": [
      "Training done in 33.1573 seconds\n"
     ]
    },
    {
     "name": "stderr",
     "output_type": "stream",
     "text": [
      "Validation loss: 0.1008: 100%|██████████| 195/195 [00:06<00:00, 29.88it/s]\n"
     ]
    },
    {
     "name": "stdout",
     "output_type": "stream",
     "text": [
      "Evaluation done in 6.5292 seconds\n",
      "\n",
      "Validation Loss: 0.12358318124061976\n",
      "Training Loss: 0.11801815590797327\n",
      "new best model\n",
      "Validation Accuracy: 0.9014222756410256\n",
      "Epoch 44\n",
      "\n"
     ]
    },
    {
     "name": "stderr",
     "output_type": "stream",
     "text": [
      "Training loss: 0.1191: 100%|██████████| 585/585 [00:33<00:00, 17.67it/s]\n"
     ]
    },
    {
     "name": "stdout",
     "output_type": "stream",
     "text": [
      "Training done in 33.1035 seconds\n"
     ]
    },
    {
     "name": "stderr",
     "output_type": "stream",
     "text": [
      "Validation loss: 0.1003: 100%|██████████| 195/195 [00:06<00:00, 29.85it/s]\n"
     ]
    },
    {
     "name": "stdout",
     "output_type": "stream",
     "text": [
      "Evaluation done in 6.5360 seconds\n",
      "\n",
      "Validation Loss: 0.124033755560716\n",
      "Training Loss: 0.11714158482276477\n",
      "Validation Accuracy: 0.9014923878205128\n",
      "Epoch 45\n",
      "\n"
     ]
    },
    {
     "name": "stderr",
     "output_type": "stream",
     "text": [
      "Training loss: 0.1165: 100%|██████████| 585/585 [00:32<00:00, 17.83it/s]\n"
     ]
    },
    {
     "name": "stdout",
     "output_type": "stream",
     "text": [
      "Training done in 32.8170 seconds\n"
     ]
    },
    {
     "name": "stderr",
     "output_type": "stream",
     "text": [
      "Validation loss: 0.0990: 100%|██████████| 195/195 [00:06<00:00, 30.39it/s]\n"
     ]
    },
    {
     "name": "stdout",
     "output_type": "stream",
     "text": [
      "Evaluation done in 6.4209 seconds\n",
      "\n",
      "Validation Loss: 0.12188070592207786\n",
      "Training Loss: 0.11668807712630329\n",
      "new best model\n",
      "Validation Accuracy: 0.9016726762820513\n",
      "Epoch 46\n",
      "\n"
     ]
    },
    {
     "name": "stderr",
     "output_type": "stream",
     "text": [
      "Training loss: 0.1173: 100%|██████████| 585/585 [00:32<00:00, 17.79it/s]\n"
     ]
    },
    {
     "name": "stdout",
     "output_type": "stream",
     "text": [
      "Training done in 32.8831 seconds\n"
     ]
    },
    {
     "name": "stderr",
     "output_type": "stream",
     "text": [
      "Validation loss: 0.0983: 100%|██████████| 195/195 [00:06<00:00, 30.69it/s]\n"
     ]
    },
    {
     "name": "stdout",
     "output_type": "stream",
     "text": [
      "Evaluation done in 6.3566 seconds\n",
      "\n",
      "Validation Loss: 0.12279510238231757\n",
      "Training Loss: 0.11568775751397141\n",
      "Validation Accuracy: 0.9012720352564103\n",
      "Epoch 47\n",
      "\n"
     ]
    },
    {
     "name": "stderr",
     "output_type": "stream",
     "text": [
      "Training loss: 0.1151: 100%|██████████| 585/585 [00:32<00:00, 17.74it/s]\n"
     ]
    },
    {
     "name": "stdout",
     "output_type": "stream",
     "text": [
      "Training done in 32.9717 seconds\n"
     ]
    },
    {
     "name": "stderr",
     "output_type": "stream",
     "text": [
      "Validation loss: 0.0981: 100%|██████████| 195/195 [00:06<00:00, 30.32it/s]\n"
     ]
    },
    {
     "name": "stdout",
     "output_type": "stream",
     "text": [
      "Evaluation done in 6.4379 seconds\n",
      "\n",
      "Validation Loss: 0.12073272959544108\n",
      "Training Loss: 0.11520557457055801\n",
      "new best model\n",
      "Validation Accuracy: 0.9017327724358974\n",
      "Epoch 48\n",
      "\n"
     ]
    },
    {
     "name": "stderr",
     "output_type": "stream",
     "text": [
      "Training loss: 0.1119: 100%|██████████| 585/585 [00:33<00:00, 17.69it/s]\n"
     ]
    },
    {
     "name": "stdout",
     "output_type": "stream",
     "text": [
      "Training done in 33.0808 seconds\n"
     ]
    },
    {
     "name": "stderr",
     "output_type": "stream",
     "text": [
      "Validation loss: 0.0956: 100%|██████████| 195/195 [00:06<00:00, 30.17it/s]\n"
     ]
    },
    {
     "name": "stdout",
     "output_type": "stream",
     "text": [
      "Evaluation done in 6.4663 seconds\n",
      "\n",
      "Validation Loss: 0.12184875022906523\n",
      "Training Loss: 0.11474520194734264\n",
      "Validation Accuracy: 0.9015925480769231\n",
      "Epoch 49\n",
      "\n"
     ]
    },
    {
     "name": "stderr",
     "output_type": "stream",
     "text": [
      "Training loss: 0.1125: 100%|██████████| 585/585 [00:32<00:00, 17.77it/s]\n"
     ]
    },
    {
     "name": "stdout",
     "output_type": "stream",
     "text": [
      "Training done in 32.9256 seconds\n"
     ]
    },
    {
     "name": "stderr",
     "output_type": "stream",
     "text": [
      "Validation loss: 0.0964: 100%|██████████| 195/195 [00:06<00:00, 30.36it/s]\n"
     ]
    },
    {
     "name": "stdout",
     "output_type": "stream",
     "text": [
      "Evaluation done in 6.4263 seconds\n",
      "\n",
      "Validation Loss: 0.11996968251008254\n",
      "Training Loss: 0.11439582183320299\n",
      "new best model\n",
      "Validation Accuracy: 0.9017628205128205\n",
      "Epoch 50\n",
      "\n"
     ]
    },
    {
     "name": "stderr",
     "output_type": "stream",
     "text": [
      "Training loss: 0.1128: 100%|██████████| 585/585 [00:33<00:00, 17.58it/s]\n"
     ]
    },
    {
     "name": "stdout",
     "output_type": "stream",
     "text": [
      "Training done in 33.2858 seconds\n"
     ]
    },
    {
     "name": "stderr",
     "output_type": "stream",
     "text": [
      "Validation loss: 0.0952: 100%|██████████| 195/195 [00:06<00:00, 29.61it/s]\n"
     ]
    },
    {
     "name": "stdout",
     "output_type": "stream",
     "text": [
      "Evaluation done in 6.5888 seconds\n",
      "\n",
      "Validation Loss: 0.11839536405526675\n",
      "Training Loss: 0.11318766705246053\n",
      "new best model\n",
      "Validation Accuracy: 0.9013721955128206\n",
      "Epoch 51\n",
      "\n"
     ]
    },
    {
     "name": "stderr",
     "output_type": "stream",
     "text": [
      "Training loss: 0.1110: 100%|██████████| 585/585 [00:33<00:00, 17.65it/s]\n"
     ]
    },
    {
     "name": "stdout",
     "output_type": "stream",
     "text": [
      "Training done in 33.1404 seconds\n"
     ]
    },
    {
     "name": "stderr",
     "output_type": "stream",
     "text": [
      "Validation loss: 0.0949: 100%|██████████| 195/195 [00:06<00:00, 29.51it/s]\n"
     ]
    },
    {
     "name": "stdout",
     "output_type": "stream",
     "text": [
      "Evaluation done in 6.6115 seconds\n",
      "\n",
      "Validation Loss: 0.11951853273770748\n",
      "Training Loss: 0.11253648167237257\n",
      "Validation Accuracy: 0.9014923878205128\n",
      "Epoch 52\n",
      "\n"
     ]
    },
    {
     "name": "stderr",
     "output_type": "stream",
     "text": [
      "Training loss: 0.1109: 100%|██████████| 585/585 [00:33<00:00, 17.72it/s]\n"
     ]
    },
    {
     "name": "stdout",
     "output_type": "stream",
     "text": [
      "Training done in 33.0238 seconds\n"
     ]
    },
    {
     "name": "stderr",
     "output_type": "stream",
     "text": [
      "Validation loss: 0.0946: 100%|██████████| 195/195 [00:06<00:00, 30.25it/s]\n"
     ]
    },
    {
     "name": "stdout",
     "output_type": "stream",
     "text": [
      "Evaluation done in 6.4505 seconds\n",
      "\n",
      "Validation Loss: 0.11831259226951844\n",
      "Training Loss: 0.11207760127945843\n",
      "new best model\n",
      "Validation Accuracy: 0.9020633012820513\n",
      "Epoch 53\n",
      "\n"
     ]
    },
    {
     "name": "stderr",
     "output_type": "stream",
     "text": [
      "Training loss: 0.1087: 100%|██████████| 585/585 [00:33<00:00, 17.65it/s]\n"
     ]
    },
    {
     "name": "stdout",
     "output_type": "stream",
     "text": [
      "Training done in 33.1513 seconds\n"
     ]
    },
    {
     "name": "stderr",
     "output_type": "stream",
     "text": [
      "Validation loss: 0.0937: 100%|██████████| 195/195 [00:06<00:00, 29.93it/s]\n"
     ]
    },
    {
     "name": "stdout",
     "output_type": "stream",
     "text": [
      "Evaluation done in 6.5183 seconds\n",
      "\n",
      "Validation Loss: 0.11883795987337063\n",
      "Training Loss: 0.11134753860214837\n",
      "Validation Accuracy: 0.901963141025641\n",
      "Epoch 54\n",
      "\n"
     ]
    },
    {
     "name": "stderr",
     "output_type": "stream",
     "text": [
      "Training loss: 0.1076: 100%|██████████| 585/585 [00:33<00:00, 17.70it/s]\n"
     ]
    },
    {
     "name": "stdout",
     "output_type": "stream",
     "text": [
      "Training done in 33.0569 seconds\n"
     ]
    },
    {
     "name": "stderr",
     "output_type": "stream",
     "text": [
      "Validation loss: 0.0926: 100%|██████████| 195/195 [00:06<00:00, 30.08it/s]\n"
     ]
    },
    {
     "name": "stdout",
     "output_type": "stream",
     "text": [
      "Evaluation done in 6.4868 seconds\n",
      "\n",
      "Validation Loss: 0.11869642161406004\n",
      "Training Loss: 0.11070843479062757\n",
      "Validation Accuracy: 0.9024038461538462\n",
      "Epoch 55\n",
      "\n"
     ]
    },
    {
     "name": "stderr",
     "output_type": "stream",
     "text": [
      "Training loss: 0.1061: 100%|██████████| 585/585 [00:33<00:00, 17.58it/s]\n"
     ]
    },
    {
     "name": "stdout",
     "output_type": "stream",
     "text": [
      "Training done in 33.2819 seconds\n"
     ]
    },
    {
     "name": "stderr",
     "output_type": "stream",
     "text": [
      "Validation loss: 0.0918: 100%|██████████| 195/195 [00:06<00:00, 28.99it/s]\n"
     ]
    },
    {
     "name": "stdout",
     "output_type": "stream",
     "text": [
      "Evaluation done in 6.7305 seconds\n",
      "\n",
      "Validation Loss: 0.11802113075286914\n",
      "Training Loss: 0.11024064098158454\n",
      "new best model\n",
      "Validation Accuracy: 0.9028345352564102\n",
      "Epoch 56\n",
      "\n"
     ]
    },
    {
     "name": "stderr",
     "output_type": "stream",
     "text": [
      "Training loss: 0.1041: 100%|██████████| 585/585 [00:33<00:00, 17.68it/s]\n"
     ]
    },
    {
     "name": "stdout",
     "output_type": "stream",
     "text": [
      "Training done in 33.0895 seconds\n"
     ]
    },
    {
     "name": "stderr",
     "output_type": "stream",
     "text": [
      "Validation loss: 0.0915: 100%|██████████| 195/195 [00:06<00:00, 29.24it/s]\n"
     ]
    },
    {
     "name": "stdout",
     "output_type": "stream",
     "text": [
      "Evaluation done in 6.6721 seconds\n",
      "\n",
      "Validation Loss: 0.11871731483783478\n",
      "Training Loss: 0.10957189234148743\n",
      "Validation Accuracy: 0.9020532852564103\n",
      "Epoch 57\n",
      "\n"
     ]
    },
    {
     "name": "stderr",
     "output_type": "stream",
     "text": [
      "Training loss: 0.1028: 100%|██████████| 585/585 [00:33<00:00, 17.57it/s]\n"
     ]
    },
    {
     "name": "stdout",
     "output_type": "stream",
     "text": [
      "Training done in 33.3076 seconds\n"
     ]
    },
    {
     "name": "stderr",
     "output_type": "stream",
     "text": [
      "Validation loss: 0.0943: 100%|██████████| 195/195 [00:06<00:00, 30.17it/s]\n"
     ]
    },
    {
     "name": "stdout",
     "output_type": "stream",
     "text": [
      "Evaluation done in 6.4676 seconds\n",
      "\n",
      "Validation Loss: 0.11928800485837154\n",
      "Training Loss: 0.10911790020445473\n",
      "Validation Accuracy: 0.9024839743589743\n",
      "Epoch 58\n",
      "\n"
     ]
    },
    {
     "name": "stderr",
     "output_type": "stream",
     "text": [
      "Training loss: 0.1021: 100%|██████████| 585/585 [00:33<00:00, 17.62it/s]\n"
     ]
    },
    {
     "name": "stdout",
     "output_type": "stream",
     "text": [
      "Training done in 33.2045 seconds\n"
     ]
    },
    {
     "name": "stderr",
     "output_type": "stream",
     "text": [
      "Validation loss: 0.0910: 100%|██████████| 195/195 [00:06<00:00, 29.68it/s]\n"
     ]
    },
    {
     "name": "stdout",
     "output_type": "stream",
     "text": [
      "Evaluation done in 6.5747 seconds\n",
      "\n",
      "Validation Loss: 0.11776912193267773\n",
      "Training Loss: 0.10873565285379051\n",
      "new best model\n",
      "Validation Accuracy: 0.9028245192307692\n",
      "Epoch 59\n",
      "\n"
     ]
    },
    {
     "name": "stderr",
     "output_type": "stream",
     "text": [
      "Training loss: 0.1021: 100%|██████████| 585/585 [00:33<00:00, 17.52it/s]\n"
     ]
    },
    {
     "name": "stdout",
     "output_type": "stream",
     "text": [
      "Training done in 33.3869 seconds\n"
     ]
    },
    {
     "name": "stderr",
     "output_type": "stream",
     "text": [
      "Validation loss: 0.0900: 100%|██████████| 195/195 [00:06<00:00, 29.02it/s]\n"
     ]
    },
    {
     "name": "stdout",
     "output_type": "stream",
     "text": [
      "Evaluation done in 6.7229 seconds\n",
      "\n",
      "Validation Loss: 0.11684448336943602\n",
      "Training Loss: 0.10787735080871827\n",
      "new best model\n",
      "Validation Accuracy: 0.9029046474358975\n",
      "Epoch 60\n",
      "\n"
     ]
    },
    {
     "name": "stderr",
     "output_type": "stream",
     "text": [
      "Training loss: 0.1016: 100%|██████████| 585/585 [00:33<00:00, 17.58it/s]\n"
     ]
    },
    {
     "name": "stdout",
     "output_type": "stream",
     "text": [
      "Training done in 33.2717 seconds\n"
     ]
    },
    {
     "name": "stderr",
     "output_type": "stream",
     "text": [
      "Validation loss: 0.0904: 100%|██████████| 195/195 [00:06<00:00, 30.23it/s]\n"
     ]
    },
    {
     "name": "stdout",
     "output_type": "stream",
     "text": [
      "Evaluation done in 6.4537 seconds\n",
      "\n",
      "Validation Loss: 0.11705963179851189\n",
      "Training Loss: 0.10752421682461714\n",
      "Validation Accuracy: 0.9028545673076923\n",
      "Epoch 61\n",
      "\n"
     ]
    },
    {
     "name": "stderr",
     "output_type": "stream",
     "text": [
      "Training loss: 0.1002: 100%|██████████| 585/585 [00:33<00:00, 17.58it/s]\n"
     ]
    },
    {
     "name": "stdout",
     "output_type": "stream",
     "text": [
      "Training done in 33.2730 seconds\n"
     ]
    },
    {
     "name": "stderr",
     "output_type": "stream",
     "text": [
      "Validation loss: 0.0902: 100%|██████████| 195/195 [00:06<00:00, 30.17it/s]\n"
     ]
    },
    {
     "name": "stdout",
     "output_type": "stream",
     "text": [
      "Evaluation done in 6.4668 seconds\n",
      "\n",
      "Validation Loss: 0.11624453770808685\n",
      "Training Loss: 0.10728403168101595\n",
      "new best model\n",
      "Validation Accuracy: 0.9025540865384616\n",
      "Epoch 62\n",
      "\n"
     ]
    },
    {
     "name": "stderr",
     "output_type": "stream",
     "text": [
      "Training loss: 0.0979: 100%|██████████| 585/585 [00:32<00:00, 17.78it/s]\n"
     ]
    },
    {
     "name": "stdout",
     "output_type": "stream",
     "text": [
      "Training done in 32.8966 seconds\n"
     ]
    },
    {
     "name": "stderr",
     "output_type": "stream",
     "text": [
      "Validation loss: 0.0882: 100%|██████████| 195/195 [00:06<00:00, 30.35it/s]\n"
     ]
    },
    {
     "name": "stdout",
     "output_type": "stream",
     "text": [
      "Evaluation done in 6.4290 seconds\n",
      "\n",
      "Validation Loss: 0.1149653122975276\n",
      "Training Loss: 0.10644114003476933\n",
      "new best model\n",
      "Validation Accuracy: 0.9025741185897436\n",
      "Epoch 63\n",
      "\n"
     ]
    },
    {
     "name": "stderr",
     "output_type": "stream",
     "text": [
      "Training loss: 0.0975: 100%|██████████| 585/585 [00:32<00:00, 17.76it/s]\n"
     ]
    },
    {
     "name": "stdout",
     "output_type": "stream",
     "text": [
      "Training done in 32.9477 seconds\n"
     ]
    },
    {
     "name": "stderr",
     "output_type": "stream",
     "text": [
      "Validation loss: 0.0869: 100%|██████████| 195/195 [00:06<00:00, 30.08it/s]\n"
     ]
    },
    {
     "name": "stdout",
     "output_type": "stream",
     "text": [
      "Evaluation done in 6.4868 seconds\n",
      "\n",
      "Validation Loss: 0.11458316433888216\n",
      "Training Loss: 0.10605692680065448\n",
      "new best model\n",
      "Validation Accuracy: 0.9029447115384616\n",
      "Epoch 64\n",
      "\n"
     ]
    },
    {
     "name": "stderr",
     "output_type": "stream",
     "text": [
      "Training loss: 0.0964: 100%|██████████| 585/585 [00:33<00:00, 17.73it/s]\n"
     ]
    },
    {
     "name": "stdout",
     "output_type": "stream",
     "text": [
      "Training done in 33.0045 seconds\n"
     ]
    },
    {
     "name": "stderr",
     "output_type": "stream",
     "text": [
      "Validation loss: 0.0871: 100%|██████████| 195/195 [00:06<00:00, 29.99it/s]\n"
     ]
    },
    {
     "name": "stdout",
     "output_type": "stream",
     "text": [
      "Evaluation done in 6.5056 seconds\n",
      "\n",
      "Validation Loss: 0.11542642215887705\n",
      "Training Loss: 0.1054157489258\n",
      "Validation Accuracy: 0.9030448717948718\n",
      "Epoch 65\n",
      "\n"
     ]
    },
    {
     "name": "stderr",
     "output_type": "stream",
     "text": [
      "Training loss: 0.0962: 100%|██████████| 585/585 [00:32<00:00, 17.75it/s]\n"
     ]
    },
    {
     "name": "stdout",
     "output_type": "stream",
     "text": [
      "Training done in 32.9572 seconds\n"
     ]
    },
    {
     "name": "stderr",
     "output_type": "stream",
     "text": [
      "Validation loss: 0.0878: 100%|██████████| 195/195 [00:06<00:00, 30.25it/s]\n"
     ]
    },
    {
     "name": "stdout",
     "output_type": "stream",
     "text": [
      "Evaluation done in 6.4496 seconds\n",
      "\n",
      "Validation Loss: 0.11474298937962606\n",
      "Training Loss: 0.10515672667668416\n",
      "Validation Accuracy: 0.9029747596153846\n",
      "Epoch 66\n",
      "\n"
     ]
    },
    {
     "name": "stderr",
     "output_type": "stream",
     "text": [
      "Training loss: 0.0962: 100%|██████████| 585/585 [00:33<00:00, 17.71it/s]\n"
     ]
    },
    {
     "name": "stdout",
     "output_type": "stream",
     "text": [
      "Training done in 33.0386 seconds\n"
     ]
    },
    {
     "name": "stderr",
     "output_type": "stream",
     "text": [
      "Validation loss: 0.0878: 100%|██████████| 195/195 [00:06<00:00, 30.21it/s]\n"
     ]
    },
    {
     "name": "stdout",
     "output_type": "stream",
     "text": [
      "Evaluation done in 6.4582 seconds\n",
      "\n",
      "Validation Loss: 0.11450185412779833\n",
      "Training Loss: 0.10453171396357382\n",
      "new best model\n",
      "Validation Accuracy: 0.9027944711538461\n",
      "Epoch 67\n",
      "\n"
     ]
    },
    {
     "name": "stderr",
     "output_type": "stream",
     "text": [
      "Training loss: 0.0955: 100%|██████████| 585/585 [00:33<00:00, 17.71it/s]\n"
     ]
    },
    {
     "name": "stdout",
     "output_type": "stream",
     "text": [
      "Training done in 33.0342 seconds\n"
     ]
    },
    {
     "name": "stderr",
     "output_type": "stream",
     "text": [
      "Validation loss: 0.0855: 100%|██████████| 195/195 [00:06<00:00, 29.31it/s]\n"
     ]
    },
    {
     "name": "stdout",
     "output_type": "stream",
     "text": [
      "Evaluation done in 6.6567 seconds\n",
      "\n",
      "Validation Loss: 0.114016731771139\n",
      "Training Loss: 0.10418083135388856\n",
      "new best model\n",
      "Validation Accuracy: 0.9032051282051282\n",
      "Epoch 68\n",
      "\n"
     ]
    },
    {
     "name": "stderr",
     "output_type": "stream",
     "text": [
      "Training loss: 0.0945: 100%|██████████| 585/585 [00:32<00:00, 17.97it/s]\n"
     ]
    },
    {
     "name": "stdout",
     "output_type": "stream",
     "text": [
      "Training done in 32.5663 seconds\n"
     ]
    },
    {
     "name": "stderr",
     "output_type": "stream",
     "text": [
      "Validation loss: 0.0859: 100%|██████████| 195/195 [00:06<00:00, 31.83it/s]\n"
     ]
    },
    {
     "name": "stdout",
     "output_type": "stream",
     "text": [
      "Evaluation done in 6.1317 seconds\n",
      "\n",
      "Validation Loss: 0.11240206005481573\n",
      "Training Loss: 0.10372036643262603\n",
      "new best model\n",
      "Validation Accuracy: 0.9035657051282051\n",
      "Epoch 69\n",
      "\n"
     ]
    },
    {
     "name": "stderr",
     "output_type": "stream",
     "text": [
      "Training loss: 0.0945: 100%|██████████| 585/585 [00:31<00:00, 18.58it/s]\n"
     ]
    },
    {
     "name": "stdout",
     "output_type": "stream",
     "text": [
      "Training done in 31.4878 seconds\n"
     ]
    },
    {
     "name": "stderr",
     "output_type": "stream",
     "text": [
      "Validation loss: 0.0836: 100%|██████████| 195/195 [00:06<00:00, 31.96it/s]\n"
     ]
    },
    {
     "name": "stdout",
     "output_type": "stream",
     "text": [
      "Evaluation done in 6.1061 seconds\n",
      "\n",
      "Validation Loss: 0.11089813025333943\n",
      "Training Loss: 0.1032977188945326\n",
      "new best model\n",
      "Validation Accuracy: 0.9041766826923077\n",
      "Epoch 70\n",
      "\n"
     ]
    },
    {
     "name": "stderr",
     "output_type": "stream",
     "text": [
      "Training loss: 0.0944: 100%|██████████| 585/585 [00:31<00:00, 18.56it/s]\n"
     ]
    },
    {
     "name": "stdout",
     "output_type": "stream",
     "text": [
      "Training done in 31.5262 seconds\n"
     ]
    },
    {
     "name": "stderr",
     "output_type": "stream",
     "text": [
      "Validation loss: 0.0835: 100%|██████████| 195/195 [00:06<00:00, 32.00it/s]\n"
     ]
    },
    {
     "name": "stdout",
     "output_type": "stream",
     "text": [
      "Evaluation done in 6.0966 seconds\n",
      "\n",
      "Validation Loss: 0.1110126631000103\n",
      "Training Loss: 0.10295316602429773\n",
      "Validation Accuracy: 0.9037960737179487\n",
      "Epoch 71\n",
      "\n"
     ]
    },
    {
     "name": "stderr",
     "output_type": "stream",
     "text": [
      "Training loss: 0.0945: 100%|██████████| 585/585 [00:31<00:00, 18.54it/s]\n"
     ]
    },
    {
     "name": "stdout",
     "output_type": "stream",
     "text": [
      "Training done in 31.5527 seconds\n"
     ]
    },
    {
     "name": "stderr",
     "output_type": "stream",
     "text": [
      "Validation loss: 0.0822: 100%|██████████| 195/195 [00:06<00:00, 31.69it/s]\n"
     ]
    },
    {
     "name": "stdout",
     "output_type": "stream",
     "text": [
      "Evaluation done in 6.1569 seconds\n",
      "\n",
      "Validation Loss: 0.11040663493749422\n",
      "Training Loss: 0.10263659245310686\n",
      "new best model\n",
      "Validation Accuracy: 0.9043369391025641\n",
      "Epoch 72\n",
      "\n"
     ]
    },
    {
     "name": "stderr",
     "output_type": "stream",
     "text": [
      "Training loss: 0.0940: 100%|██████████| 585/585 [00:31<00:00, 18.49it/s]\n"
     ]
    },
    {
     "name": "stdout",
     "output_type": "stream",
     "text": [
      "Training done in 31.6382 seconds\n"
     ]
    },
    {
     "name": "stderr",
     "output_type": "stream",
     "text": [
      "Validation loss: 0.0804: 100%|██████████| 195/195 [00:06<00:00, 31.79it/s]\n"
     ]
    },
    {
     "name": "stdout",
     "output_type": "stream",
     "text": [
      "Evaluation done in 6.1374 seconds\n",
      "\n",
      "Validation Loss: 0.11006955019174477\n",
      "Training Loss: 0.10221863392199207\n",
      "new best model\n",
      "Validation Accuracy: 0.9044471153846154\n",
      "Epoch 73\n",
      "\n"
     ]
    },
    {
     "name": "stderr",
     "output_type": "stream",
     "text": [
      "Training loss: 0.0936: 100%|██████████| 585/585 [00:31<00:00, 18.55it/s]\n"
     ]
    },
    {
     "name": "stdout",
     "output_type": "stream",
     "text": [
      "Training done in 31.5358 seconds\n"
     ]
    },
    {
     "name": "stderr",
     "output_type": "stream",
     "text": [
      "Validation loss: 0.0818: 100%|██████████| 195/195 [00:06<00:00, 32.10it/s]\n"
     ]
    },
    {
     "name": "stdout",
     "output_type": "stream",
     "text": [
      "Evaluation done in 6.0781 seconds\n",
      "\n",
      "Validation Loss: 0.11028573757562882\n",
      "Training Loss: 0.10187801435971872\n",
      "Validation Accuracy: 0.9037860576923077\n",
      "Epoch 74\n",
      "\n"
     ]
    },
    {
     "name": "stderr",
     "output_type": "stream",
     "text": [
      "Training loss: 0.0938: 100%|██████████| 585/585 [00:31<00:00, 18.56it/s]\n"
     ]
    },
    {
     "name": "stdout",
     "output_type": "stream",
     "text": [
      "Training done in 31.5193 seconds\n"
     ]
    },
    {
     "name": "stderr",
     "output_type": "stream",
     "text": [
      "Validation loss: 0.0784: 100%|██████████| 195/195 [00:06<00:00, 31.89it/s]\n"
     ]
    },
    {
     "name": "stdout",
     "output_type": "stream",
     "text": [
      "Evaluation done in 6.1185 seconds\n",
      "\n",
      "Validation Loss: 0.10849019697843454\n",
      "Training Loss: 0.10149416212852184\n",
      "new best model\n",
      "Validation Accuracy: 0.904286858974359\n",
      "Epoch 75\n",
      "\n"
     ]
    },
    {
     "name": "stderr",
     "output_type": "stream",
     "text": [
      "Training loss: 0.0940: 100%|██████████| 585/585 [00:31<00:00, 18.49it/s]\n"
     ]
    },
    {
     "name": "stdout",
     "output_type": "stream",
     "text": [
      "Training done in 31.6380 seconds\n"
     ]
    },
    {
     "name": "stderr",
     "output_type": "stream",
     "text": [
      "Validation loss: 0.0785: 100%|██████████| 195/195 [00:06<00:00, 31.63it/s]\n"
     ]
    },
    {
     "name": "stdout",
     "output_type": "stream",
     "text": [
      "Evaluation done in 6.1683 seconds\n",
      "\n",
      "Validation Loss: 0.10835451040512477\n",
      "Training Loss: 0.10125704566255594\n",
      "new best model\n",
      "Validation Accuracy: 0.9042568108974359\n",
      "Epoch 76\n",
      "\n"
     ]
    },
    {
     "name": "stderr",
     "output_type": "stream",
     "text": [
      "Training loss: 0.0947: 100%|██████████| 585/585 [00:31<00:00, 18.32it/s]\n"
     ]
    },
    {
     "name": "stdout",
     "output_type": "stream",
     "text": [
      "Training done in 31.9307 seconds\n"
     ]
    },
    {
     "name": "stderr",
     "output_type": "stream",
     "text": [
      "Validation loss: 0.0770: 100%|██████████| 195/195 [00:06<00:00, 31.84it/s]\n"
     ]
    },
    {
     "name": "stdout",
     "output_type": "stream",
     "text": [
      "Evaluation done in 6.1279 seconds\n",
      "\n",
      "Validation Loss: 0.10800109996627538\n",
      "Training Loss: 0.10096949769390953\n",
      "new best model\n",
      "Validation Accuracy: 0.9044471153846154\n",
      "Epoch 77\n",
      "\n"
     ]
    },
    {
     "name": "stderr",
     "output_type": "stream",
     "text": [
      "Training loss: 0.0939: 100%|██████████| 585/585 [00:31<00:00, 18.51it/s]\n"
     ]
    },
    {
     "name": "stdout",
     "output_type": "stream",
     "text": [
      "Training done in 31.6081 seconds\n"
     ]
    },
    {
     "name": "stderr",
     "output_type": "stream",
     "text": [
      "Validation loss: 0.0788: 100%|██████████| 195/195 [00:06<00:00, 31.78it/s]\n"
     ]
    },
    {
     "name": "stdout",
     "output_type": "stream",
     "text": [
      "Evaluation done in 6.1396 seconds\n",
      "\n",
      "Validation Loss: 0.10856672674417496\n",
      "Training Loss: 0.1004524575594144\n",
      "Validation Accuracy: 0.9047576121794871\n",
      "Epoch 78\n",
      "\n"
     ]
    },
    {
     "name": "stderr",
     "output_type": "stream",
     "text": [
      "Training loss: 0.0957: 100%|██████████| 585/585 [00:31<00:00, 18.47it/s]\n"
     ]
    },
    {
     "name": "stdout",
     "output_type": "stream",
     "text": [
      "Training done in 31.6687 seconds\n"
     ]
    },
    {
     "name": "stderr",
     "output_type": "stream",
     "text": [
      "Validation loss: 0.0771: 100%|██████████| 195/195 [00:06<00:00, 31.78it/s]\n"
     ]
    },
    {
     "name": "stdout",
     "output_type": "stream",
     "text": [
      "Evaluation done in 6.1391 seconds\n",
      "\n",
      "Validation Loss: 0.1083018856552931\n",
      "Training Loss: 0.10005278991073625\n",
      "Validation Accuracy: 0.903535657051282\n",
      "Epoch 79\n",
      "\n"
     ]
    },
    {
     "name": "stderr",
     "output_type": "stream",
     "text": [
      "Training loss: 0.0958: 100%|██████████| 585/585 [00:31<00:00, 18.38it/s]\n"
     ]
    },
    {
     "name": "stdout",
     "output_type": "stream",
     "text": [
      "Training done in 31.8373 seconds\n"
     ]
    },
    {
     "name": "stderr",
     "output_type": "stream",
     "text": [
      "Validation loss: 0.0768: 100%|██████████| 195/195 [00:06<00:00, 31.75it/s]\n"
     ]
    },
    {
     "name": "stdout",
     "output_type": "stream",
     "text": [
      "Evaluation done in 6.1463 seconds\n",
      "\n",
      "Validation Loss: 0.10750796859845137\n",
      "Training Loss: 0.09969131761254409\n",
      "new best model\n",
      "Validation Accuracy: 0.904296875\n",
      "Epoch 80\n",
      "\n"
     ]
    },
    {
     "name": "stderr",
     "output_type": "stream",
     "text": [
      "Training loss: 0.0940: 100%|██████████| 585/585 [00:31<00:00, 18.42it/s]\n"
     ]
    },
    {
     "name": "stdout",
     "output_type": "stream",
     "text": [
      "Training done in 31.7561 seconds\n"
     ]
    },
    {
     "name": "stderr",
     "output_type": "stream",
     "text": [
      "Validation loss: 0.0763: 100%|██████████| 195/195 [00:06<00:00, 31.83it/s]\n"
     ]
    },
    {
     "name": "stdout",
     "output_type": "stream",
     "text": [
      "Evaluation done in 6.1298 seconds\n",
      "\n",
      "Validation Loss: 0.10805044701466193\n",
      "Training Loss: 0.09934883868465057\n",
      "Validation Accuracy: 0.9039663461538462\n",
      "Epoch 81\n",
      "\n"
     ]
    },
    {
     "name": "stderr",
     "output_type": "stream",
     "text": [
      "Training loss: 0.0968: 100%|██████████| 585/585 [00:31<00:00, 18.36it/s]\n"
     ]
    },
    {
     "name": "stdout",
     "output_type": "stream",
     "text": [
      "Training done in 31.8611 seconds\n"
     ]
    },
    {
     "name": "stderr",
     "output_type": "stream",
     "text": [
      "Validation loss: 0.0771: 100%|██████████| 195/195 [00:06<00:00, 31.68it/s]\n"
     ]
    },
    {
     "name": "stdout",
     "output_type": "stream",
     "text": [
      "Evaluation done in 6.1600 seconds\n",
      "\n",
      "Validation Loss: 0.10815664550814873\n",
      "Training Loss: 0.09927593290678456\n",
      "Validation Accuracy: 0.9038361378205129\n",
      "Epoch 82\n",
      "\n"
     ]
    },
    {
     "name": "stderr",
     "output_type": "stream",
     "text": [
      "Training loss: 0.0956: 100%|██████████| 585/585 [00:31<00:00, 18.29it/s]\n"
     ]
    },
    {
     "name": "stdout",
     "output_type": "stream",
     "text": [
      "Training done in 31.9945 seconds\n"
     ]
    },
    {
     "name": "stderr",
     "output_type": "stream",
     "text": [
      "Validation loss: 0.0774: 100%|██████████| 195/195 [00:06<00:00, 31.58it/s]\n"
     ]
    },
    {
     "name": "stdout",
     "output_type": "stream",
     "text": [
      "Evaluation done in 6.1794 seconds\n",
      "\n",
      "Validation Loss: 0.10772922413471417\n",
      "Training Loss: 0.09891976394459732\n",
      "Validation Accuracy: 0.9033553685897436\n",
      "Epoch 83\n",
      "\n"
     ]
    },
    {
     "name": "stderr",
     "output_type": "stream",
     "text": [
      "Training loss: 0.0943: 100%|██████████| 585/585 [00:31<00:00, 18.32it/s]\n"
     ]
    },
    {
     "name": "stdout",
     "output_type": "stream",
     "text": [
      "Training done in 31.9315 seconds\n"
     ]
    },
    {
     "name": "stderr",
     "output_type": "stream",
     "text": [
      "Validation loss: 0.0774: 100%|██████████| 195/195 [00:06<00:00, 31.69it/s]\n"
     ]
    },
    {
     "name": "stdout",
     "output_type": "stream",
     "text": [
      "Evaluation done in 6.1564 seconds\n",
      "\n",
      "Validation Loss: 0.10764834238932683\n",
      "Training Loss: 0.09852327078453496\n",
      "Validation Accuracy: 0.903495592948718\n",
      "Epoch 84\n",
      "\n"
     ]
    },
    {
     "name": "stderr",
     "output_type": "stream",
     "text": [
      "Training loss: 0.0954: 100%|██████████| 585/585 [00:31<00:00, 18.30it/s]\n"
     ]
    },
    {
     "name": "stdout",
     "output_type": "stream",
     "text": [
      "Training done in 31.9624 seconds\n"
     ]
    },
    {
     "name": "stderr",
     "output_type": "stream",
     "text": [
      "Validation loss: 0.0760: 100%|██████████| 195/195 [00:06<00:00, 31.59it/s]\n"
     ]
    },
    {
     "name": "stdout",
     "output_type": "stream",
     "text": [
      "Evaluation done in 6.1772 seconds\n",
      "\n",
      "Validation Loss: 0.10790316248551393\n",
      "Training Loss: 0.09824185978907805\n",
      "Validation Accuracy: 0.9034555288461539\n",
      "Epoch 85\n",
      "\n"
     ]
    },
    {
     "name": "stderr",
     "output_type": "stream",
     "text": [
      "Training loss: 0.0971: 100%|██████████| 585/585 [00:31<00:00, 18.29it/s]\n"
     ]
    },
    {
     "name": "stdout",
     "output_type": "stream",
     "text": [
      "Training done in 31.9959 seconds\n"
     ]
    },
    {
     "name": "stderr",
     "output_type": "stream",
     "text": [
      "Validation loss: 0.0767: 100%|██████████| 195/195 [00:06<00:00, 31.48it/s]\n"
     ]
    },
    {
     "name": "stdout",
     "output_type": "stream",
     "text": [
      "Evaluation done in 6.1984 seconds\n",
      "\n",
      "Validation Loss: 0.1086400357958598\n",
      "Training Loss: 0.0980444773649558\n",
      "Validation Accuracy: 0.9030448717948718\n",
      "Epoch 86\n",
      "\n"
     ]
    },
    {
     "name": "stderr",
     "output_type": "stream",
     "text": [
      "Training loss: 0.0956: 100%|██████████| 585/585 [00:31<00:00, 18.31it/s]\n"
     ]
    },
    {
     "name": "stdout",
     "output_type": "stream",
     "text": [
      "Training done in 31.9532 seconds\n"
     ]
    },
    {
     "name": "stderr",
     "output_type": "stream",
     "text": [
      "Validation loss: 0.0759: 100%|██████████| 195/195 [00:06<00:00, 31.60it/s]\n"
     ]
    },
    {
     "name": "stdout",
     "output_type": "stream",
     "text": [
      "Evaluation done in 6.1732 seconds\n",
      "\n",
      "Validation Loss: 0.10769481116380447\n",
      "Training Loss: 0.09757774625069056\n",
      "Validation Accuracy: 0.9033954326923077\n",
      "Epoch 87\n",
      "\n"
     ]
    },
    {
     "name": "stderr",
     "output_type": "stream",
     "text": [
      "Training loss: 0.0974: 100%|██████████| 585/585 [00:32<00:00, 18.28it/s]\n"
     ]
    },
    {
     "name": "stdout",
     "output_type": "stream",
     "text": [
      "Training done in 32.0051 seconds\n"
     ]
    },
    {
     "name": "stderr",
     "output_type": "stream",
     "text": [
      "Validation loss: 0.0766: 100%|██████████| 195/195 [00:06<00:00, 31.55it/s]\n"
     ]
    },
    {
     "name": "stdout",
     "output_type": "stream",
     "text": [
      "Evaluation done in 6.1861 seconds\n",
      "\n",
      "Validation Loss: 0.10866244391371042\n",
      "Training Loss: 0.09749618582745903\n",
      "Validation Accuracy: 0.9023036858974359\n",
      "Epoch 88\n",
      "\n"
     ]
    },
    {
     "name": "stderr",
     "output_type": "stream",
     "text": [
      "Training loss: 0.0954: 100%|██████████| 585/585 [00:31<00:00, 18.28it/s]\n"
     ]
    },
    {
     "name": "stdout",
     "output_type": "stream",
     "text": [
      "Training done in 32.0019 seconds\n"
     ]
    },
    {
     "name": "stderr",
     "output_type": "stream",
     "text": [
      "Validation loss: 0.0756: 100%|██████████| 195/195 [00:06<00:00, 30.96it/s]\n"
     ]
    },
    {
     "name": "stdout",
     "output_type": "stream",
     "text": [
      "Evaluation done in 6.3019 seconds\n",
      "\n",
      "Validation Loss: 0.10857058140711906\n",
      "Training Loss: 0.09721465023536967\n",
      "Validation Accuracy: 0.9025841346153847\n",
      "Epoch 89\n",
      "\n"
     ]
    },
    {
     "name": "stderr",
     "output_type": "stream",
     "text": [
      "Training loss: 0.0981: 100%|██████████| 585/585 [00:32<00:00, 17.78it/s]\n"
     ]
    },
    {
     "name": "stdout",
     "output_type": "stream",
     "text": [
      "Training done in 32.8990 seconds\n"
     ]
    },
    {
     "name": "stderr",
     "output_type": "stream",
     "text": [
      "Validation loss: 0.0775: 100%|██████████| 195/195 [00:06<00:00, 31.38it/s]\n"
     ]
    },
    {
     "name": "stdout",
     "output_type": "stream",
     "text": [
      "Evaluation done in 6.2172 seconds\n",
      "\n",
      "Validation Loss: 0.10942143639310813\n",
      "Training Loss: 0.09709927914106947\n",
      "Validation Accuracy: 0.9024038461538462\n",
      "Epoch 90\n",
      "\n"
     ]
    },
    {
     "name": "stderr",
     "output_type": "stream",
     "text": [
      "Training loss: 0.0953: 100%|██████████| 585/585 [00:32<00:00, 18.21it/s]\n"
     ]
    },
    {
     "name": "stdout",
     "output_type": "stream",
     "text": [
      "Training done in 32.1327 seconds\n"
     ]
    },
    {
     "name": "stderr",
     "output_type": "stream",
     "text": [
      "Validation loss: 0.0750: 100%|██████████| 195/195 [00:06<00:00, 31.61it/s]\n"
     ]
    },
    {
     "name": "stdout",
     "output_type": "stream",
     "text": [
      "Evaluation done in 6.1742 seconds\n",
      "\n",
      "Validation Loss: 0.10813810368761038\n",
      "Training Loss: 0.09655396226379606\n",
      "Validation Accuracy: 0.9030048076923077\n",
      "Epoch 91\n",
      "\n"
     ]
    },
    {
     "name": "stderr",
     "output_type": "stream",
     "text": [
      "Training loss: 0.0943: 100%|██████████| 585/585 [00:32<00:00, 18.05it/s]\n"
     ]
    },
    {
     "name": "stdout",
     "output_type": "stream",
     "text": [
      "Training done in 32.4168 seconds\n"
     ]
    },
    {
     "name": "stderr",
     "output_type": "stream",
     "text": [
      "Validation loss: 0.0749: 100%|██████████| 195/195 [00:06<00:00, 31.59it/s]\n"
     ]
    },
    {
     "name": "stdout",
     "output_type": "stream",
     "text": [
      "Evaluation done in 6.1761 seconds\n",
      "\n",
      "Validation Loss: 0.10790253961697603\n",
      "Training Loss: 0.09644126066157961\n",
      "Validation Accuracy: 0.9030248397435897\n",
      "Epoch 92\n",
      "\n"
     ]
    },
    {
     "name": "stderr",
     "output_type": "stream",
     "text": [
      "Training loss: 0.0937: 100%|██████████| 585/585 [00:32<00:00, 18.20it/s]\n"
     ]
    },
    {
     "name": "stdout",
     "output_type": "stream",
     "text": [
      "Training done in 32.1467 seconds\n"
     ]
    },
    {
     "name": "stderr",
     "output_type": "stream",
     "text": [
      "Validation loss: 0.0749: 100%|██████████| 195/195 [00:06<00:00, 31.54it/s]\n"
     ]
    },
    {
     "name": "stdout",
     "output_type": "stream",
     "text": [
      "Evaluation done in 6.1887 seconds\n",
      "\n",
      "Validation Loss: 0.10819839426340201\n",
      "Training Loss: 0.09595530130542242\n",
      "Validation Accuracy: 0.9028145032051282\n",
      "Epoch 93\n",
      "\n"
     ]
    },
    {
     "name": "stderr",
     "output_type": "stream",
     "text": [
      "Training loss: 0.0932: 100%|██████████| 585/585 [00:32<00:00, 18.27it/s]\n"
     ]
    },
    {
     "name": "stdout",
     "output_type": "stream",
     "text": [
      "Training done in 32.0253 seconds\n"
     ]
    },
    {
     "name": "stderr",
     "output_type": "stream",
     "text": [
      "Validation loss: 0.0741: 100%|██████████| 195/195 [00:06<00:00, 31.30it/s]\n"
     ]
    },
    {
     "name": "stdout",
     "output_type": "stream",
     "text": [
      "Evaluation done in 6.2341 seconds\n",
      "\n",
      "Validation Loss: 0.10715934496659499\n",
      "Training Loss: 0.09567276541875978\n",
      "new best model\n",
      "Validation Accuracy: 0.9036658653846154\n",
      "Epoch 94\n",
      "\n"
     ]
    },
    {
     "name": "stderr",
     "output_type": "stream",
     "text": [
      "Training loss: 0.0938: 100%|██████████| 585/585 [00:32<00:00, 18.26it/s]\n"
     ]
    },
    {
     "name": "stdout",
     "output_type": "stream",
     "text": [
      "Training done in 32.0435 seconds\n"
     ]
    },
    {
     "name": "stderr",
     "output_type": "stream",
     "text": [
      "Validation loss: 0.0761: 100%|██████████| 195/195 [00:06<00:00, 31.54it/s]\n"
     ]
    },
    {
     "name": "stdout",
     "output_type": "stream",
     "text": [
      "Evaluation done in 6.1885 seconds\n",
      "\n",
      "Validation Loss: 0.10828796925070958\n",
      "Training Loss: 0.09544035270810128\n",
      "Validation Accuracy: 0.9029046474358975\n",
      "Epoch 95\n",
      "\n"
     ]
    },
    {
     "name": "stderr",
     "output_type": "stream",
     "text": [
      "Training loss: 0.0912: 100%|██████████| 585/585 [00:32<00:00, 18.24it/s]\n"
     ]
    },
    {
     "name": "stdout",
     "output_type": "stream",
     "text": [
      "Training done in 32.0797 seconds\n"
     ]
    },
    {
     "name": "stderr",
     "output_type": "stream",
     "text": [
      "Validation loss: 0.0749: 100%|██████████| 195/195 [00:06<00:00, 31.38it/s]\n"
     ]
    },
    {
     "name": "stdout",
     "output_type": "stream",
     "text": [
      "Evaluation done in 6.2173 seconds\n",
      "\n",
      "Validation Loss: 0.106904753163839\n",
      "Training Loss: 0.09517438656244523\n",
      "new best model\n",
      "Validation Accuracy: 0.9032752403846154\n",
      "Epoch 96\n",
      "\n"
     ]
    },
    {
     "name": "stderr",
     "output_type": "stream",
     "text": [
      "Training loss: 0.0920: 100%|██████████| 585/585 [00:32<00:00, 18.23it/s]\n"
     ]
    },
    {
     "name": "stdout",
     "output_type": "stream",
     "text": [
      "Training done in 32.0916 seconds\n"
     ]
    },
    {
     "name": "stderr",
     "output_type": "stream",
     "text": [
      "Validation loss: 0.0749: 100%|██████████| 195/195 [00:06<00:00, 31.54it/s]\n"
     ]
    },
    {
     "name": "stdout",
     "output_type": "stream",
     "text": [
      "Evaluation done in 6.1860 seconds\n",
      "\n",
      "Validation Loss: 0.10772894395467562\n",
      "Training Loss: 0.09500266969458669\n",
      "Validation Accuracy: 0.9028745993589744\n",
      "Epoch 97\n",
      "\n"
     ]
    },
    {
     "name": "stderr",
     "output_type": "stream",
     "text": [
      "Training loss: 0.0919: 100%|██████████| 585/585 [00:32<00:00, 18.25it/s]\n"
     ]
    },
    {
     "name": "stdout",
     "output_type": "stream",
     "text": [
      "Training done in 32.0648 seconds\n"
     ]
    },
    {
     "name": "stderr",
     "output_type": "stream",
     "text": [
      "Validation loss: 0.0749: 100%|██████████| 195/195 [00:06<00:00, 31.52it/s]\n"
     ]
    },
    {
     "name": "stdout",
     "output_type": "stream",
     "text": [
      "Evaluation done in 6.1938 seconds\n",
      "\n",
      "Validation Loss: 0.1080911942017384\n",
      "Training Loss: 0.09494210472728452\n",
      "Validation Accuracy: 0.9029046474358975\n",
      "Epoch 98\n",
      "\n"
     ]
    },
    {
     "name": "stderr",
     "output_type": "stream",
     "text": [
      "Training loss: 0.0933: 100%|██████████| 585/585 [00:32<00:00, 18.15it/s]\n"
     ]
    },
    {
     "name": "stdout",
     "output_type": "stream",
     "text": [
      "Training done in 32.2314 seconds\n"
     ]
    },
    {
     "name": "stderr",
     "output_type": "stream",
     "text": [
      "Validation loss: 0.0780: 100%|██████████| 195/195 [00:06<00:00, 31.55it/s]\n"
     ]
    },
    {
     "name": "stdout",
     "output_type": "stream",
     "text": [
      "Evaluation done in 6.1851 seconds\n",
      "\n",
      "Validation Loss: 0.10879224248421498\n",
      "Training Loss: 0.09465352978843909\n",
      "Validation Accuracy: 0.9019831730769231\n",
      "Epoch 99\n",
      "\n"
     ]
    },
    {
     "name": "stderr",
     "output_type": "stream",
     "text": [
      "Training loss: 0.0935: 100%|██████████| 585/585 [00:32<00:00, 18.21it/s]\n"
     ]
    },
    {
     "name": "stdout",
     "output_type": "stream",
     "text": [
      "Training done in 32.1256 seconds\n"
     ]
    },
    {
     "name": "stderr",
     "output_type": "stream",
     "text": [
      "Validation loss: 0.0749: 100%|██████████| 195/195 [00:06<00:00, 31.48it/s]"
     ]
    },
    {
     "name": "stdout",
     "output_type": "stream",
     "text": [
      "Evaluation done in 6.1986 seconds\n",
      "\n",
      "Validation Loss: 0.10893878014041827\n",
      "Training Loss: 0.09465207030885239\n",
      "Validation Accuracy: 0.9023036858974359\n"
     ]
    },
    {
     "name": "stderr",
     "output_type": "stream",
     "text": [
      "\n"
     ]
    }
   ],
   "source": [
    "for m in range(n_epochs):\n",
    "    print(f\"Epoch {m}\\n\")\n",
    "    lst = []\n",
    "    loss_val = []\n",
    "    loss_train = []\n",
    "    correct = []\n",
    "    tic = time.perf_counter()\n",
    "\n",
    "    # train process\n",
    "    iterator = data_train.generate_data()  # needed for batch gradient descent\n",
    "    total_ = int(n_train / batch_size)\n",
    "\n",
    "    pbar = tqdm.tqdm(iterator, total=total_)  # displays progresss bar\n",
    "    for element in pbar:\n",
    "        (sub_X, sub_Y, _) = element\n",
    "        training = sub_X[2]  # particle features\n",
    "        training_sv = sub_X[3]  # secondary vertex features\n",
    "        target = sub_Y[0]  # labels\n",
    "        \n",
    "        # convert to pytorch tensors\n",
    "        trainingv = torch.tensor(training, dtype=torch.float, device=device)\n",
    "        trainingv_sv = torch.tensor(training_sv, dtype=torch.float, device=device)\n",
    "        targetv = (torch.from_numpy(np.argmax(target, axis=1)).long()).to(device)\n",
    "        optimizer.zero_grad()\n",
    "        model.train()\n",
    "        \n",
    "        out = model(trainingv, trainingv_sv)\n",
    "        batch_loss = loss(out, targetv)\n",
    "        batch_loss.backward()\n",
    "        optimizer.step()\n",
    "        batch_loss = batch_loss.detach().cpu().item()\n",
    "        loss_train.append(batch_loss)\n",
    "        pbar.set_description(f\"Training loss: {batch_loss:.4f}\")\n",
    "    toc = time.perf_counter()\n",
    "    print(f\"Training done in {toc - tic:0.4f} seconds\")\n",
    "    tic = time.perf_counter()\n",
    "    \n",
    "    # validate process\n",
    "    iterator = data_val.generate_data()\n",
    "    total_ = int(n_val / batch_size)\n",
    "    pbar = tqdm.tqdm(iterator, total=total_)\n",
    "    for element in pbar:\n",
    "        (sub_X, sub_Y, _) = element\n",
    "        training = sub_X[2]\n",
    "        training_sv = sub_X[3]\n",
    "        target = sub_Y[0]\n",
    "\n",
    "        trainingv = torch.tensor(training, dtype=torch.float, device=device)\n",
    "        trainingv_sv = torch.tensor(training_sv, dtype=torch.float, device=device)\n",
    "        targetv = (torch.from_numpy(np.argmax(target, axis=1)).long()).to(device)\n",
    "        model.eval()\n",
    "        out = model(trainingv, trainingv_sv)\n",
    "        \n",
    "        lst.append(softmax(out).cpu().data.numpy())\n",
    "        l_val = loss(out, targetv).cpu().item()\n",
    "        loss_val.append(l_val)\n",
    "        correct.append(target)\n",
    "        pbar.set_description(f\"Validation loss: {l_val:.4f}\")\n",
    "    toc = time.perf_counter()\n",
    "    print(f\"Evaluation done in {toc - tic:0.4f} seconds\")\n",
    "    l_val = np.mean(np.array(loss_val))\n",
    "\n",
    "    predicted = np.concatenate(lst)\n",
    "    print(f\"\\nValidation Loss: {l_val}\")\n",
    "\n",
    "    l_training = np.mean(np.array(loss_train))\n",
    "    print(f\"Training Loss: {l_training}\")\n",
    "    val_targetv = np.concatenate(correct)\n",
    "    \n",
    "    if l_val < l_val_best:\n",
    "        print(\"new best model\")\n",
    "        l_val_best = l_val\n",
    "        torch.save(model.state_dict(), f\"{model_loc}/{label}_best.pth\")  # save the model's state dictionary\n",
    "        np.save(\n",
    "            f\"{model_perf_loc}/{label}_validation_target_vals.npy\",\n",
    "            val_targetv,\n",
    "        )\n",
    "        np.save(\n",
    "            f\"{model_perf_loc}/{label}_validation_predicted_vals.npy\",\n",
    "            predicted,\n",
    "        )\n",
    "        np.save(\n",
    "            f\"{model_perf_loc}/{label}_loss_train.npy\",\n",
    "            np.array(loss_train),\n",
    "        )\n",
    "        np.save(\n",
    "            f\"{model_perf_loc}/{label}_loss_val.npy\",\n",
    "            np.array(loss_val),\n",
    "        )\n",
    "\n",
    "    acc_val = accuracy_score(val_targetv[:, 0], predicted[:, 0] > 0.5)\n",
    "    print(f\"Validation Accuracy: {acc_val}\")"
   ]
  },
  {
   "cell_type": "code",
   "execution_count": null,
   "id": "f5254055",
   "metadata": {},
   "outputs": [],
   "source": []
  }
 ],
 "metadata": {
  "kernelspec": {
   "display_name": "Python 3 (ipykernel)",
   "language": "python",
   "name": "python3"
  },
  "language_info": {
   "codemirror_mode": {
    "name": "ipython",
    "version": 3
   },
   "file_extension": ".py",
   "mimetype": "text/x-python",
   "name": "python",
   "nbconvert_exporter": "python",
   "pygments_lexer": "ipython3",
   "version": "3.9.5"
  }
 },
 "nbformat": 4,
 "nbformat_minor": 5
}
