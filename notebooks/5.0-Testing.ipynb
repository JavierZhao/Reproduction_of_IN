{
 "cells": [
  {
   "cell_type": "code",
   "execution_count": 1,
   "id": "8d8c8341",
   "metadata": {},
   "outputs": [],
   "source": [
    "import logging\n",
    "from datetime import datetime\n",
    "import argparse\n",
    "import glob\n",
    "import os\n",
    "from pathlib import Path\n",
    "\n",
    "import numpy as np\n",
    "import torch\n",
    "\n",
    "import h5py\n",
    "\n",
    "# if torch.cuda.is_available():\n",
    "#     import setGPU  # noqa: F401\n",
    "\n",
    "import tqdm\n",
    "import yaml\n",
    "from scipy.special import softmax\n",
    "from sklearn.metrics import accuracy_score, roc_auc_score, roc_curve\n",
    "\n",
    "from src.data.h5data import H5Data\n",
    "from src.models.gnn import GraphNet"
   ]
  },
  {
   "cell_type": "code",
   "execution_count": 2,
   "id": "f9a8fcc7",
   "metadata": {},
   "outputs": [],
   "source": [
    "import matplotlib.pyplot as plt"
   ]
  },
  {
   "cell_type": "code",
   "execution_count": 3,
   "id": "9d0c8056",
   "metadata": {},
   "outputs": [],
   "source": [
    "project_dir = \"/home/ziz078/teams/group-2/Reproduction_of_IN\"\n",
    "definitions = f\"{project_dir}/src/data/definitions.yml\"\n",
    "with open(definitions) as yaml_file:\n",
    "    defn = yaml.load(yaml_file, Loader=yaml.FullLoader)\n",
    "\n",
    "N = defn[\"nobj_2\"]  # number of charged particles\n",
    "N_sv = defn[\"nobj_3\"]  # number of SVs\n",
    "n_targets = len(defn[\"reduced_labels\"])  # number of classes\n",
    "spectators = defn[\"spectators\"]\n",
    "params = defn[\"features_2\"]\n",
    "params_sv = defn[\"features_3\"]\n",
    "spectators = defn[\"spectators\"]\n",
    "labels = defn[\"labels\"]\n",
    "n_feature_sets = defn[\"n_feature_sets\"]"
   ]
  },
  {
   "cell_type": "code",
   "execution_count": 4,
   "id": "5d7189ff",
   "metadata": {},
   "outputs": [
    {
     "name": "stdout",
     "output_type": "stream",
     "text": [
      "test data: 200000\n"
     ]
    }
   ],
   "source": [
    "evaluating_test = True\n",
    "\n",
    "device = \"cuda\"\n",
    "batch_size = 512\n",
    "\n",
    "files_test = glob.glob(os.path.join(f\"{project_dir}/data/processed/test\", \"newdata_*.h5\"))\n",
    "\n",
    "if evaluating_test:\n",
    "    dataset = \"test\"\n",
    "else:\n",
    "    dataset = \"train\"\n",
    "\n",
    "data_test = H5Data(\n",
    "    batch_size=batch_size,\n",
    "    cache=None,\n",
    "    preloading=0,\n",
    "    features_name=f\"{dataset}ing_subgroup\",\n",
    "    labels_name=\"target_subgroup\",\n",
    "    spectators_name=\"spectator_subgroup\",\n",
    ")\n",
    "data_test.set_file_names(files_test)\n",
    "n_test = data_test.count_data()\n",
    "print(f\"test data: {n_test}\")"
   ]
  },
  {
   "cell_type": "code",
   "execution_count": 5,
   "id": "bba59793",
   "metadata": {},
   "outputs": [
    {
     "name": "stdout",
     "output_type": "stream",
     "text": [
      "Parameters = 25554\n"
     ]
    }
   ],
   "source": [
    "min_pt = -999 #300\n",
    "max_pt = 99999 #2000\n",
    "min_eta = -999 # no cut\n",
    "max_eta = 999 # no cut\n",
    "min_msd = -999 #40\n",
    "max_msd = 9999 #200\n",
    "vv_branch = 0\n",
    "sv_branch = 1\n",
    "label = 'new'\n",
    "model = GraphNet(\n",
    "        n_constituents=N, # (30) added this to make out_test work, but it should be set to N\n",
    "        n_targets=n_targets,\n",
    "        params=len(params),\n",
    "        hidden=60,\n",
    "        n_vertices=N_sv,\n",
    "        params_v=len(params_sv),\n",
    "        vv_branch=int(vv_branch),\n",
    "        De=20,\n",
    "        Do=24,\n",
    "    ).to(device)\n",
    "\n",
    "model.load_state_dict(torch.load(f\"{project_dir}/models/trained_models/small_IN_best.pth\"))\n",
    "model.eval()\n",
    "print(f\"Parameters = {sum(p.numel() for p in model.parameters() if p.requires_grad)}\")"
   ]
  },
  {
   "cell_type": "code",
   "execution_count": 6,
   "id": "2deeaff1",
   "metadata": {},
   "outputs": [
    {
     "name": "stderr",
     "output_type": "stream",
     "text": [
      "100%|██████████| 390/390 [00:13<00:00, 29.60it/s]\n"
     ]
    },
    {
     "name": "stdout",
     "output_type": "stream",
     "text": [
      "AUC:  0.98160392045641\n",
      "Accuray:  0.904286858974359\n",
      "Total: 187706, Target: 187706.0, Pred: 187706.0\n",
      "AUC:  0.9829993554341869\n",
      "Accuray 0:  0.9591755191629463\n",
      "Accuray 1:  0.9591755191629463\n"
     ]
    }
   ],
   "source": [
    "# test process\n",
    "eval_path = \"small_IN\"\n",
    "iterator = data_test.generate_data()\n",
    "total_ = int(n_test / batch_size)\n",
    "pbar = tqdm.tqdm(iterator, total=total_)\n",
    "for j, element in enumerate(pbar):\n",
    "    (sub_X, sub_Y, sub_Z) = element\n",
    "    training = sub_X[2]\n",
    "    training_sv = sub_X[3]\n",
    "    target = sub_Y[0]\n",
    "    spectator = sub_Z[0]\n",
    "\n",
    "    # mask away selection\n",
    "    fj_pt = spectator[:, 0, 0]\n",
    "    fj_eta = spectator[:, 0, 1]\n",
    "    fj_sdmass = spectator[:, 0, 2]\n",
    "    no_undef = fj_pt > -999  # no cut\n",
    "    mask = (\n",
    "        (fj_sdmass > min_msd)\n",
    "        & (fj_sdmass < max_msd)\n",
    "        & (fj_eta > min_eta)\n",
    "        & (fj_eta < max_eta)\n",
    "        & (fj_pt > min_pt)\n",
    "        & (fj_pt < max_pt)\n",
    "        & no_undef\n",
    "    )\n",
    "    training = training[mask]\n",
    "    training_sv = training_sv[mask]\n",
    "    target = target[mask]\n",
    "    spectator = spectator[mask]\n",
    "\n",
    "    trainingv = torch.tensor(training, dtype=torch.float, device=device)\n",
    "    trainingv_sv = torch.tensor(training_sv, dtype=torch.float, device=device)\n",
    "\n",
    "\n",
    "    out_test = model(trainingv, trainingv_sv)\n",
    "    out_test = out_test.cpu().data.numpy()\n",
    "    out_test = softmax(out_test, axis=1)\n",
    "\n",
    "\n",
    "#     print(f\"j: {j}\")\n",
    "    if j == 0:\n",
    "        prediction = out_test\n",
    "        target_test = target\n",
    "    else:\n",
    "        prediction = np.concatenate((prediction, out_test), axis=0)\n",
    "        target_test = np.concatenate((target_test, target))\n",
    "\n",
    "auc = roc_auc_score(target_test[:, 1], prediction[:, 1])\n",
    "print(\"AUC: \", auc)\n",
    "acc = accuracy_score(target_test[:, 0], prediction[:, 0] >= 0.5)\n",
    "print(\"Accuray: \", acc)\n",
    "# checking the sums\n",
    "target_sums = np.sum(target_test, 1)\n",
    "prediction_sums = np.sum(prediction, 1)\n",
    "idx = target_sums == 1\n",
    "print(\"Total: {}, Target: {}, Pred: {}\".format(np.sum(idx), np.sum(target_sums[idx]), np.sum(prediction_sums[idx])))\n",
    "auc = roc_auc_score(target_test[idx][:, 1], prediction[idx][:, 1])\n",
    "print(\"AUC: \", auc)\n",
    "acc = accuracy_score(target_test[idx][:, 0], prediction[idx][:, 0] >= 0.5)\n",
    "print(\"Accuray 0: \", acc)\n",
    "acc = accuracy_score(target_test[idx][:, 1], prediction[idx][:, 1] >= 0.5)\n",
    "print(\"Accuray 1: \", acc)\n",
    "\n",
    "\n",
    "\n",
    "\n",
    "pu_label = eval_path\n",
    "\n",
    "fpr, tpr, _ = roc_curve(target_test[:, 1], prediction[:, 1])\n",
    "\n",
    "\n",
    "# save the predicted and true labels\n",
    "model_pred_loc = f\"{project_dir}/model_predictions/\" + eval_path\n",
    "os.makedirs(model_pred_loc, exist_ok=True)\n",
    "model_name = \"gnn\"\n",
    "np.save(\n",
    "    f\"{model_pred_loc}/{model_name}_pred_{pu_label}.npy\",\n",
    "    prediction,\n",
    ")\n",
    "np.save(\n",
    "    f\"{model_pred_loc}/{model_name}_true_labels_{pu_label}.npy\",\n",
    "    target_test,\n",
    ")\n",
    "\n",
    "# save fpr and tpr for roc curve\n",
    "model_perf_loc = f\"{project_dir}/model_performances/\" + eval_path  \n",
    "os.makedirs(model_perf_loc, exist_ok=True)\n",
    "\n",
    "\n",
    "np.save(\n",
    "    f\"{model_perf_loc}/{model_name}_test_fpr_{pu_label}.npy\",\n",
    "    fpr,\n",
    ")\n",
    "np.save(\n",
    "    f\"{model_perf_loc}/{model_name}_test_tpr_{pu_label}.npy\",\n",
    "    tpr,\n",
    ")"
   ]
  },
  {
   "cell_type": "code",
   "execution_count": 15,
   "id": "cf6021df",
   "metadata": {},
   "outputs": [
    {
     "data": {
      "text/plain": [
       "<matplotlib.legend.Legend at 0x7f3758c2a6d0>"
      ]
     },
     "execution_count": 15,
     "metadata": {},
     "output_type": "execute_result"
    },
    {
     "data": {
      "image/png": "[encoded data removed]",
      "text/plain": [
       "<Figure size 432x288 with 1 Axes>"
      ]
     },
     "metadata": {
      "needs_background": "light"
     },
     "output_type": "display_data"
    }
   ],
   "source": [
    "auc_IN = 0.98160392045641\n",
    "plt.plot(fpr, tpr)\n",
    "plt.legend([\"AUC: {:.4f}\".format(auc_IN)])"
   ]
  },
  {
   "cell_type": "code",
   "execution_count": 8,
   "id": "23eaade2",
   "metadata": {},
   "outputs": [],
   "source": [
    "pred_DNN = np.load(f\"{project_dir}/notebooks/pred_baseline.npy\")\n",
    "truth_DNN = np.load(f\"{project_dir}/notebooks/truth_baseline.npy\")"
   ]
  },
  {
   "cell_type": "code",
   "execution_count": 12,
   "id": "8c6d5bfc",
   "metadata": {},
   "outputs": [],
   "source": [
    "auc_DNN = roc_auc_score(truth_DNN[:, 1], pred_DNN[:, 1])"
   ]
  },
  {
   "cell_type": "code",
   "execution_count": 10,
   "id": "d0faf2ca",
   "metadata": {},
   "outputs": [],
   "source": [
    "fpr_DNN, tpr_DNN, _ = roc_curve(truth_DNN[:, 1], pred_DNN[:, 1])"
   ]
  },
  {
   "cell_type": "code",
   "execution_count": 18,
   "id": "1bf2a7da",
   "metadata": {},
   "outputs": [
    {
     "data": {
      "image/png": "[encoded data removed]",
      "text/plain": [
       "<Figure size 432x288 with 1 Axes>"
      ]
     },
     "metadata": {
      "needs_background": "light"
     },
     "output_type": "display_data"
    }
   ],
   "source": [
    "plt.plot(tpr, fpr, lw=2.5, label=\"IN AUC = {:.1f}%\".format(auc_IN*100))\n",
    "plt.plot(tpr_DNN, fpr_DNN, lw=2.5, label=\"DNN AUC = {:.1f}%\".format(auc_DNN*100))\n",
    "plt.xlabel(r'True positive rate')\n",
    "plt.ylabel(r'False positive rate')\n",
    "plt.semilogy()\n",
    "plt.ylim(0.001,1)\n",
    "plt.xlim(0,1)\n",
    "plt.grid(True)\n",
    "plt.legend(loc='upper left')\n",
    "plt.tight_layout()\n",
    "plt.savefig('log_ROC.png')\n",
    "plt.savefig('log_ROC.pdf')"
   ]
  },
  {
   "cell_type": "code",
   "execution_count": 19,
   "id": "4b9feb63",
   "metadata": {},
   "outputs": [
    {
     "data": {
      "image/png": "[encoded data removed]",
      "text/plain": [
       "<Figure size 432x288 with 1 Axes>"
      ]
     },
     "metadata": {
      "needs_background": "light"
     },
     "output_type": "display_data"
    }
   ],
   "source": [
    "plt.plot(tpr, fpr, lw=2.5, label=\"IN AUC = {:.1f}%\".format(auc_IN*100))\n",
    "plt.plot(tpr_DNN, fpr_DNN, lw=2.5, label=\"DNN AUC = {:.1f}%\".format(auc_DNN*100))\n",
    "plt.xlabel(r'True positive rate')\n",
    "plt.ylabel(r'False positive rate')\n",
    "plt.ylim(0.001,1)\n",
    "plt.xlim(0,1)\n",
    "plt.grid(True)\n",
    "plt.legend(loc='upper left')\n",
    "plt.tight_layout()\n",
    "plt.savefig('ROC_compare.png')\n",
    "plt.savefig('ROC_compare.pdf')"
   ]
  },
  {
   "cell_type": "code",
   "execution_count": 20,
   "id": "58bc724f",
   "metadata": {},
   "outputs": [
    {
     "name": "stdout",
     "output_type": "stream",
     "text": [
      "DNN Accuray:  0.8208156720801384\n"
     ]
    }
   ],
   "source": [
    "acc_DNN = accuracy_score(truth_DNN[:, 0], pred_DNN[:, 0] >= 0.5)\n",
    "print(\"DNN Accuray: \", acc_DNN)"
   ]
  },
  {
   "cell_type": "code",
   "execution_count": null,
   "id": "b596d6f5",
   "metadata": {},
   "outputs": [],
   "source": []
  }
 ],
 "metadata": {
  "kernelspec": {
   "display_name": "Python 3 (ipykernel)",
   "language": "python",
   "name": "python3"
  },
  "language_info": {
   "codemirror_mode": {
    "name": "ipython",
    "version": 3
   },
   "file_extension": ".py",
   "mimetype": "text/x-python",
   "name": "python",
   "nbconvert_exporter": "python",
   "pygments_lexer": "ipython3",
   "version": "3.9.5"
  }
 },
 "nbformat": 4,
 "nbformat_minor": 5
}
