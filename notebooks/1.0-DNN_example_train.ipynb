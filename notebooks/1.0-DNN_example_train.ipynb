{
 "cells": [
  {
   "cell_type": "code",
   "execution_count": 3,
   "metadata": {},
   "outputs": [],
   "source": [
    "import keras\n",
    "import numpy as np\n",
    "import tables\n",
    "from keras.models import Model\n",
    "from keras.layers import Input, Dense, BatchNormalization\n",
    "from keras.callbacks import ModelCheckpoint, EarlyStopping\n",
    "from sklearn.metrics import roc_curve, auc\n",
    "import matplotlib.pyplot as plt"
   ]
  },
  {
   "cell_type": "code",
   "execution_count": 4,
   "metadata": {},
   "outputs": [],
   "source": [
    "# 27 features\n",
    "features = ['fj_jetNTracks',\n",
    "            'fj_nSV',\n",
    "            'fj_tau0_trackEtaRel_0',\n",
    "            'fj_tau0_trackEtaRel_1',\n",
    "            'fj_tau0_trackEtaRel_2',\n",
    "            'fj_tau1_trackEtaRel_0',\n",
    "            'fj_tau1_trackEtaRel_1',\n",
    "            'fj_tau1_trackEtaRel_2',\n",
    "            'fj_tau_flightDistance2dSig_0',\n",
    "            'fj_tau_flightDistance2dSig_1',\n",
    "            'fj_tau_vertexDeltaR_0',\n",
    "            'fj_tau_vertexEnergyRatio_0',\n",
    "            'fj_tau_vertexEnergyRatio_1',\n",
    "            'fj_tau_vertexMass_0',\n",
    "            'fj_tau_vertexMass_1',\n",
    "            'fj_trackSip2dSigAboveBottom_0',\n",
    "            'fj_trackSip2dSigAboveBottom_1',\n",
    "            'fj_trackSip2dSigAboveCharm_0',\n",
    "            'fj_trackSipdSig_0',\n",
    "            'fj_trackSipdSig_0_0',\n",
    "            'fj_trackSipdSig_0_1',\n",
    "            'fj_trackSipdSig_1',\n",
    "            'fj_trackSipdSig_1_0',\n",
    "            'fj_trackSipdSig_1_1',\n",
    "            'fj_trackSipdSig_2',\n",
    "            'fj_trackSipdSig_3',\n",
    "            'fj_z_ratio']\n",
    "\n",
    "# spectators to define mass/pT window\n",
    "spectators = ['fj_sdmass',\n",
    "              'fj_pt']\n",
    "\n",
    "# 2 labels: QCD or Hbb\n",
    "labels = ['fj_isQCD*sample_isQCD',\n",
    "          'fj_isH*fj_isBB']\n",
    "\n",
    "nfeatures = len(features)\n",
    "nspectators = len(spectators)\n",
    "nlabels = len(labels)"
   ]
  },
  {
   "cell_type": "code",
   "execution_count": 5,
   "metadata": {},
   "outputs": [],
   "source": [
    "def get_features_labels(file_name, remove_mass_pt_window=True):\n",
    "    # load file\n",
    "    h5file = tables.open_file(file_name, 'r')\n",
    "    njets = getattr(h5file.root,features[0]).shape[0]\n",
    "\n",
    "    # allocate arrays\n",
    "    feature_array = np.zeros((njets,nfeatures))\n",
    "    spec_array = np.zeros((njets,nspectators))\n",
    "    label_array = np.zeros((njets,nlabels))\n",
    "\n",
    "    # load feature arrays\n",
    "    for (i, feat) in enumerate(features):\n",
    "        feature_array[:,i] = getattr(h5file.root,feat)[:]\n",
    "\n",
    "    # load spectator arrays\n",
    "    for (i, spec) in enumerate(spectators):\n",
    "        spec_array[:,i] = getattr(h5file.root,spec)[:]\n",
    "\n",
    "    # load labels arrays\n",
    "    for (i, label) in enumerate(labels):\n",
    "        prods = label.split('*')\n",
    "        prod0 = prods[0]\n",
    "        prod1 = prods[1]\n",
    "        fact0 = getattr(h5file.root,prod0)[:]\n",
    "        fact1 = getattr(h5file.root,prod1)[:]\n",
    "        label_array[:,i] = np.multiply(fact0,fact1)\n",
    "\n",
    "    # remove samples outside mass/pT window\n",
    "    if remove_mass_pt_window:\n",
    "        feature_array = feature_array[(spec_array[:,0] > 40) & (spec_array[:,0] < 200) & (spec_array[:,1] > 300) & (spec_array[:,1] < 2000)]\n",
    "        label_array = label_array[(spec_array[:,0] > 40) & (spec_array[:,0] < 200) & (spec_array[:,1] > 300) & (spec_array[:,1] < 2000)]\n",
    "\n",
    "    feature_array = feature_array[np.sum(label_array,axis=1)==1]\n",
    "    label_array = label_array[np.sum(label_array,axis=1)==1]\n",
    "\n",
    "    h5file.close()\n",
    "    return feature_array, label_array"
   ]
  },
  {
   "cell_type": "code",
   "execution_count": 2,
   "metadata": {},
   "outputs": [
    {
     "name": "stdout",
     "output_type": "stream",
     "text": [
      "[1.403GB/1.403GB][100%][==================================================][6.684MB/s]  \n"
     ]
    },
    {
     "ename": "NameError",
     "evalue": "name 'get_features_labels' is not defined",
     "output_type": "error",
     "traceback": [
      "\u001b[0;31m---------------------------------------------------------------------------\u001b[0m",
      "\u001b[0;31mNameError\u001b[0m                                 Traceback (most recent call last)",
      "\u001b[0;32m/tmp/ipykernel_428/2869545022.py\u001b[0m in \u001b[0;36m<module>\u001b[0;34m\u001b[0m\n\u001b[1;32m      5\u001b[0m \u001b[0;34m\u001b[0m\u001b[0m\n\u001b[1;32m      6\u001b[0m \u001b[0;31m# load training file\u001b[0m\u001b[0;34m\u001b[0m\u001b[0;34m\u001b[0m\u001b[0;34m\u001b[0m\u001b[0m\n\u001b[0;32m----> 7\u001b[0;31m \u001b[0mfeature_array\u001b[0m\u001b[0;34m,\u001b[0m \u001b[0mlabel_array\u001b[0m \u001b[0;34m=\u001b[0m \u001b[0mget_features_labels\u001b[0m\u001b[0;34m(\u001b[0m\u001b[0;34m'ntuple_merged_10.h5'\u001b[0m\u001b[0;34m,\u001b[0m \u001b[0mremove_mass_pt_window\u001b[0m\u001b[0;34m=\u001b[0m\u001b[0;32mFalse\u001b[0m\u001b[0;34m)\u001b[0m\u001b[0;34m\u001b[0m\u001b[0;34m\u001b[0m\u001b[0m\n\u001b[0m",
      "\u001b[0;31mNameError\u001b[0m: name 'get_features_labels' is not defined"
     ]
    }
   ],
   "source": [
    "# copy training file if it doesn't exist\n",
    "import os.path\n",
    "if not os.path.isfile('ntuple_merged_10.h5'): \n",
    "    !xrdcp root://eospublic.cern.ch//eos/opendata/cms/datascience/HiggsToBBNtupleProducerTool/HiggsToBBNTuple_HiggsToBB_QCD_RunII_13TeV_MC/train/ntuple_merged_10.h5 .\n",
    "\n",
    "# load training file\n",
    "feature_array, label_array = get_features_labels('ntuple_merged_10.h5', remove_mass_pt_window=False)"
   ]
  },
  {
   "cell_type": "code",
   "execution_count": 6,
   "metadata": {},
   "outputs": [],
   "source": [
    "#feature_array, label_array = get_features_labels('ntuple_merged_10.h5', remove_mass_pt_window=False)"
   ]
  },
  {
   "cell_type": "code",
   "execution_count": 7,
   "metadata": {},
   "outputs": [
    {
     "name": "stdout",
     "output_type": "stream",
     "text": [
      "Model: \"model\"\n",
      "_________________________________________________________________\n",
      " Layer (type)                Output Shape              Param #   \n",
      "=================================================================\n",
      " input (InputLayer)          [(None, 27)]              0         \n",
      "                                                                 \n",
      " bn_1 (BatchNormalization)   (None, 27)                108       \n",
      "                                                                 \n",
      " dense_1 (Dense)             (None, 64)                1792      \n",
      "                                                                 \n",
      " dense_2 (Dense)             (None, 32)                2080      \n",
      "                                                                 \n",
      " dense_3 (Dense)             (None, 32)                1056      \n",
      "                                                                 \n",
      " output (Dense)              (None, 2)                 66        \n",
      "                                                                 \n",
      "=================================================================\n",
      "Total params: 5,102\n",
      "Trainable params: 5,048\n",
      "Non-trainable params: 54\n",
      "_________________________________________________________________\n",
      "None\n"
     ]
    },
    {
     "name": "stderr",
     "output_type": "stream",
     "text": [
      "2023-03-14 21:07:36.575100: I tensorflow/core/platform/cpu_feature_guard.cc:193] This TensorFlow binary is optimized with oneAPI Deep Neural Network Library (oneDNN) to use the following CPU instructions in performance-critical operations:  AVX2 AVX512F FMA\n",
      "To enable them in other operations, rebuild TensorFlow with the appropriate compiler flags.\n",
      "2023-03-14 21:07:37.318750: I tensorflow/core/common_runtime/gpu/gpu_device.cc:1613] Created device /job:localhost/replica:0/task:0/device:GPU:0 with 10405 MB memory:  -> device: 0, name: GeForce GTX 1080 Ti, pci bus id: 0000:3d:00.0, compute capability: 6.1\n"
     ]
    }
   ],
   "source": [
    "# define dense keras model\n",
    "inputs = Input(shape=(nfeatures,), name = 'input')  \n",
    "x = BatchNormalization(name='bn_1')(inputs)\n",
    "x = Dense(64, name = 'dense_1', activation='relu')(x)\n",
    "x = Dense(32, name = 'dense_2', activation='relu')(x)\n",
    "x = Dense(32, name = 'dense_3', activation='relu')(x)\n",
    "outputs = Dense(nlabels, name = 'output', activation='softmax')(x)\n",
    "keras_model = Model(inputs=inputs, outputs=outputs)\n",
    "keras_model.compile(optimizer='adam', loss='categorical_crossentropy', metrics=['accuracy'])\n",
    "print(keras_model.summary())"
   ]
  },
  {
   "cell_type": "code",
   "execution_count": 8,
   "metadata": {},
   "outputs": [
    {
     "name": "stdout",
     "output_type": "stream",
     "text": [
      "Epoch 1/100\n"
     ]
    },
    {
     "name": "stderr",
     "output_type": "stream",
     "text": [
      "2023-03-14 21:07:45.948737: I tensorflow/compiler/xla/service/service.cc:173] XLA service 0x7f4320004d40 initialized for platform CUDA (this does not guarantee that XLA will be used). Devices:\n",
      "2023-03-14 21:07:45.948828: I tensorflow/compiler/xla/service/service.cc:181]   StreamExecutor device (0): GeForce GTX 1080 Ti, Compute Capability 6.1\n",
      "2023-03-14 21:07:45.965168: I tensorflow/compiler/mlir/tensorflow/utils/dump_mlir_util.cc:268] disabling MLIR crash reproducer, set env var `MLIR_CRASH_REPRODUCER_DIRECTORY` to enable.\n",
      "2023-03-14 21:07:46.071846: W tensorflow/compiler/xla/stream_executor/gpu/asm_compiler.cc:115] *** WARNING *** You are using ptxas 10.0.145, which is older than 11.1. ptxas before 11.1 is known to miscompile XLA code, leading to incorrect results or invalid-address errors.\n",
      "\n",
      "You may not need to update to CUDA 11.1; cherry-picking the ptxas binary is often sufficient.\n",
      "2023-03-14 21:07:46.140349: I tensorflow/compiler/jit/xla_compilation_cache.cc:477] Compiled cluster using XLA!  This line is logged at most once for the lifetime of the process.\n",
      "2023-03-14 21:07:46.228694: W tensorflow/compiler/xla/stream_executor/gpu/asm_compiler.cc:115] *** WARNING *** You are using ptxas 10.0.145, which is older than 11.1. ptxas before 11.1 is known to miscompile XLA code, leading to incorrect results or invalid-address errors.\n",
      "\n",
      "You may not need to update to CUDA 11.1; cherry-picking the ptxas binary is often sufficient.\n",
      "2023-03-14 21:07:46.398668: W tensorflow/compiler/xla/stream_executor/gpu/asm_compiler.cc:115] *** WARNING *** You are using ptxas 10.0.145, which is older than 11.1. ptxas before 11.1 is known to miscompile XLA code, leading to incorrect results or invalid-address errors.\n",
      "\n",
      "You may not need to update to CUDA 11.1; cherry-picking the ptxas binary is often sufficient.\n",
      "2023-03-14 21:07:46.562478: W tensorflow/compiler/xla/stream_executor/gpu/asm_compiler.cc:115] *** WARNING *** You are using ptxas 10.0.145, which is older than 11.1. ptxas before 11.1 is known to miscompile XLA code, leading to incorrect results or invalid-address errors.\n",
      "\n",
      "You may not need to update to CUDA 11.1; cherry-picking the ptxas binary is often sufficient.\n",
      "2023-03-14 21:07:46.731403: W tensorflow/compiler/xla/stream_executor/gpu/asm_compiler.cc:115] *** WARNING *** You are using ptxas 10.0.145, which is older than 11.1. ptxas before 11.1 is known to miscompile XLA code, leading to incorrect results or invalid-address errors.\n",
      "\n",
      "You may not need to update to CUDA 11.1; cherry-picking the ptxas binary is often sufficient.\n",
      "2023-03-14 21:07:46.984877: W tensorflow/compiler/xla/stream_executor/gpu/asm_compiler.cc:115] *** WARNING *** You are using ptxas 10.0.145, which is older than 11.1. ptxas before 11.1 is known to miscompile XLA code, leading to incorrect results or invalid-address errors.\n",
      "\n",
      "You may not need to update to CUDA 11.1; cherry-picking the ptxas binary is often sufficient.\n"
     ]
    },
    {
     "name": "stdout",
     "output_type": "stream",
     "text": [
      "\r",
      "  1/147 [..............................] - ETA: 6:28 - loss: 0.7963 - accuracy: 0.2139"
     ]
    },
    {
     "name": "stderr",
     "output_type": "stream",
     "text": [
      "2023-03-14 21:07:47.224305: W tensorflow/compiler/xla/stream_executor/gpu/asm_compiler.cc:115] *** WARNING *** You are using ptxas 10.0.145, which is older than 11.1. ptxas before 11.1 is known to miscompile XLA code, leading to incorrect results or invalid-address errors.\n",
      "\n",
      "You may not need to update to CUDA 11.1; cherry-picking the ptxas binary is often sufficient.\n"
     ]
    },
    {
     "name": "stdout",
     "output_type": "stream",
     "text": [
      "147/147 [==============================] - 4s 9ms/step - loss: 0.3150 - accuracy: 0.8745 - val_loss: 0.2503 - val_accuracy: 0.9042\n",
      "Epoch 2/100\n",
      "147/147 [==============================] - 1s 7ms/step - loss: 0.2415 - accuracy: 0.9070 - val_loss: 0.2400 - val_accuracy: 0.9073\n",
      "Epoch 3/100\n",
      "147/147 [==============================] - 1s 7ms/step - loss: 0.2355 - accuracy: 0.9096 - val_loss: 0.2358 - val_accuracy: 0.9080\n",
      "Epoch 4/100\n",
      "147/147 [==============================] - 1s 7ms/step - loss: 0.2322 - accuracy: 0.9109 - val_loss: 0.2335 - val_accuracy: 0.9092\n",
      "Epoch 5/100\n",
      "147/147 [==============================] - 1s 7ms/step - loss: 0.2300 - accuracy: 0.9116 - val_loss: 0.2320 - val_accuracy: 0.9100\n",
      "Epoch 6/100\n",
      "147/147 [==============================] - 1s 7ms/step - loss: 0.2283 - accuracy: 0.9120 - val_loss: 0.2310 - val_accuracy: 0.9107\n",
      "Epoch 7/100\n",
      "147/147 [==============================] - 1s 7ms/step - loss: 0.2269 - accuracy: 0.9126 - val_loss: 0.2300 - val_accuracy: 0.9111\n",
      "Epoch 8/100\n",
      "147/147 [==============================] - 1s 7ms/step - loss: 0.2258 - accuracy: 0.9133 - val_loss: 0.2294 - val_accuracy: 0.9115\n",
      "Epoch 9/100\n",
      "147/147 [==============================] - 1s 7ms/step - loss: 0.2247 - accuracy: 0.9136 - val_loss: 0.2289 - val_accuracy: 0.9119\n",
      "Epoch 10/100\n",
      "147/147 [==============================] - 1s 8ms/step - loss: 0.2237 - accuracy: 0.9138 - val_loss: 0.2282 - val_accuracy: 0.9116\n",
      "Epoch 11/100\n",
      "147/147 [==============================] - 1s 7ms/step - loss: 0.2228 - accuracy: 0.9143 - val_loss: 0.2278 - val_accuracy: 0.9122\n",
      "Epoch 12/100\n",
      "147/147 [==============================] - 1s 7ms/step - loss: 0.2220 - accuracy: 0.9146 - val_loss: 0.2273 - val_accuracy: 0.9123\n",
      "Epoch 13/100\n",
      "147/147 [==============================] - 1s 7ms/step - loss: 0.2213 - accuracy: 0.9149 - val_loss: 0.2270 - val_accuracy: 0.9127\n",
      "Epoch 14/100\n",
      "147/147 [==============================] - 1s 8ms/step - loss: 0.2206 - accuracy: 0.9153 - val_loss: 0.2267 - val_accuracy: 0.9127\n",
      "Epoch 15/100\n",
      "147/147 [==============================] - 1s 7ms/step - loss: 0.2200 - accuracy: 0.9157 - val_loss: 0.2265 - val_accuracy: 0.9125\n",
      "Epoch 16/100\n",
      "147/147 [==============================] - 1s 7ms/step - loss: 0.2194 - accuracy: 0.9159 - val_loss: 0.2262 - val_accuracy: 0.9126\n",
      "Epoch 17/100\n",
      "147/147 [==============================] - 1s 8ms/step - loss: 0.2189 - accuracy: 0.9161 - val_loss: 0.2260 - val_accuracy: 0.9128\n",
      "Epoch 18/100\n",
      "147/147 [==============================] - 1s 8ms/step - loss: 0.2184 - accuracy: 0.9164 - val_loss: 0.2259 - val_accuracy: 0.9128\n",
      "Epoch 19/100\n",
      "147/147 [==============================] - 1s 7ms/step - loss: 0.2180 - accuracy: 0.9167 - val_loss: 0.2257 - val_accuracy: 0.9131\n",
      "Epoch 20/100\n",
      "147/147 [==============================] - 1s 8ms/step - loss: 0.2175 - accuracy: 0.9168 - val_loss: 0.2255 - val_accuracy: 0.9131\n",
      "Epoch 21/100\n",
      "147/147 [==============================] - 1s 7ms/step - loss: 0.2171 - accuracy: 0.9172 - val_loss: 0.2255 - val_accuracy: 0.9133\n",
      "Epoch 22/100\n",
      "147/147 [==============================] - 1s 7ms/step - loss: 0.2167 - accuracy: 0.9174 - val_loss: 0.2254 - val_accuracy: 0.9132\n",
      "Epoch 23/100\n",
      "147/147 [==============================] - 1s 8ms/step - loss: 0.2163 - accuracy: 0.9174 - val_loss: 0.2253 - val_accuracy: 0.9128\n",
      "Epoch 24/100\n",
      "147/147 [==============================] - 1s 7ms/step - loss: 0.2159 - accuracy: 0.9177 - val_loss: 0.2252 - val_accuracy: 0.9127\n",
      "Epoch 25/100\n",
      "147/147 [==============================] - 1s 8ms/step - loss: 0.2155 - accuracy: 0.9177 - val_loss: 0.2251 - val_accuracy: 0.9128\n",
      "Epoch 26/100\n",
      "147/147 [==============================] - 1s 7ms/step - loss: 0.2151 - accuracy: 0.9176 - val_loss: 0.2250 - val_accuracy: 0.9128\n",
      "Epoch 27/100\n",
      "147/147 [==============================] - 1s 7ms/step - loss: 0.2147 - accuracy: 0.9180 - val_loss: 0.2251 - val_accuracy: 0.9128\n",
      "Epoch 28/100\n",
      "147/147 [==============================] - 1s 7ms/step - loss: 0.2144 - accuracy: 0.9181 - val_loss: 0.2251 - val_accuracy: 0.9128\n",
      "Epoch 29/100\n",
      "147/147 [==============================] - 1s 7ms/step - loss: 0.2140 - accuracy: 0.9182 - val_loss: 0.2252 - val_accuracy: 0.9127\n",
      "Epoch 30/100\n",
      "147/147 [==============================] - 1s 8ms/step - loss: 0.2137 - accuracy: 0.9182 - val_loss: 0.2252 - val_accuracy: 0.9126\n",
      "Epoch 31/100\n",
      "147/147 [==============================] - 1s 7ms/step - loss: 0.2134 - accuracy: 0.9185 - val_loss: 0.2251 - val_accuracy: 0.9129\n",
      "Epoch 32/100\n",
      "147/147 [==============================] - 1s 7ms/step - loss: 0.2131 - accuracy: 0.9187 - val_loss: 0.2252 - val_accuracy: 0.9127\n",
      "Epoch 33/100\n",
      "147/147 [==============================] - 1s 7ms/step - loss: 0.2127 - accuracy: 0.9188 - val_loss: 0.2252 - val_accuracy: 0.9128\n",
      "Epoch 34/100\n",
      "147/147 [==============================] - 1s 7ms/step - loss: 0.2124 - accuracy: 0.9189 - val_loss: 0.2253 - val_accuracy: 0.9128\n",
      "Epoch 35/100\n",
      "147/147 [==============================] - 1s 7ms/step - loss: 0.2121 - accuracy: 0.9191 - val_loss: 0.2254 - val_accuracy: 0.9126\n",
      "Epoch 36/100\n",
      "147/147 [==============================] - 1s 7ms/step - loss: 0.2118 - accuracy: 0.9192 - val_loss: 0.2253 - val_accuracy: 0.9125\n"
     ]
    },
    {
     "data": {
      "text/plain": [
       "<keras.callbacks.History at 0x7f484c820b80>"
      ]
     },
     "execution_count": 8,
     "metadata": {},
     "output_type": "execute_result"
    }
   ],
   "source": [
    "# define callbacks\n",
    "early_stopping = EarlyStopping(monitor='val_loss', patience=10)\n",
    "model_checkpoint = ModelCheckpoint('keras_model_best.h5', monitor='val_loss', save_best_only=True)\n",
    "callbacks = [early_stopping, model_checkpoint]\n",
    "\n",
    "# fit keras model\n",
    "keras_model.fit(feature_array, label_array, batch_size=1024, \n",
    "                epochs=100, validation_split=0.2, shuffle=False,\n",
    "                callbacks = callbacks)"
   ]
  },
  {
   "cell_type": "code",
   "execution_count": 9,
   "metadata": {},
   "outputs": [
    {
     "name": "stdout",
     "output_type": "stream",
     "text": [
      "[1.403GB/1.403GB][100%][==================================================][1.528MB/s]  \n"
     ]
    }
   ],
   "source": [
    "# copy testing file if it doesn't exist\n",
    "import os.path\n",
    "if not os.path.isfile('ntuple_merged_0.h5'): \n",
    "    !xrdcp root://eospublic.cern.ch//eos/opendata/cms/datascience/HiggsToBBNtupleProducerTool/HiggsToBBNTuple_HiggsToBB_QCD_RunII_13TeV_MC/test/ntuple_merged_0.h5 .\n",
    "        \n",
    "# load testing file\n",
    "feature_array_test, label_array_test = get_features_labels('ntuple_merged_0.h5')"
   ]
  },
  {
   "cell_type": "code",
   "execution_count": 10,
   "metadata": {},
   "outputs": [
    {
     "name": "stdout",
     "output_type": "stream",
     "text": [
      "1969/1969 [==============================] - 4s 2ms/step\n"
     ]
    },
    {
     "data": {
      "image/png": "[encoded data removed]",
      "text/plain": [
       "<Figure size 432x288 with 1 Axes>"
      ]
     },
     "metadata": {
      "needs_background": "light"
     },
     "output_type": "display_data"
    }
   ],
   "source": [
    "# reload best weights\n",
    "keras_model.load_weights('keras_model_best.h5')\n",
    "\n",
    "# run model inference on test data set\n",
    "predict_array_test = keras_model.predict(feature_array_test)\n",
    "\n",
    "# create ROC curve\n",
    "fpr, tpr, threshold = roc_curve(label_array_test[:,1], predict_array_test[:,1])\n",
    "    \n",
    "# plot ROC curve\n",
    "plt.figure()\n",
    "plt.plot(tpr, fpr, lw=2.5, label=\"AUC = {:.1f}%\".format(auc(fpr,tpr)*100))\n",
    "plt.xlabel(r'True positive rate')\n",
    "plt.ylabel(r'False positive rate')\n",
    "plt.semilogy()\n",
    "plt.ylim(0.001,1)\n",
    "plt.xlim(0,1)\n",
    "plt.grid(True)\n",
    "plt.legend(loc='upper left')\n",
    "plt.tight_layout()\n",
    "plt.savefig('ROC.png')\n",
    "plt.savefig('ROC.pdf')"
   ]
  },
  {
   "cell_type": "code",
   "execution_count": null,
   "metadata": {},
   "outputs": [],
   "source": []
  }
 ],
 "metadata": {
  "kernelspec": {
   "display_name": "Python 3 (ipykernel)",
   "language": "python",
   "name": "python3"
  },
  "language_info": {
   "codemirror_mode": {
    "name": "ipython",
    "version": 3
   },
   "file_extension": ".py",
   "mimetype": "text/x-python",
   "name": "python",
   "nbconvert_exporter": "python",
   "pygments_lexer": "ipython3",
   "version": "3.9.5"
  },
  "vscode": {
   "interpreter": {
    "hash": "52634da84371cba311ea128a5ea7cdc41ff074b781779e754b270ff9f8153cee"
   }
  }
 },
 "nbformat": 4,
 "nbformat_minor": 2
}
